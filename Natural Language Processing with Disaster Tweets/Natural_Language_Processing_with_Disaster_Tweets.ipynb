{
 "nbformat": 4,
 "nbformat_minor": 0,
 "metadata": {
  "colab": {
   "provenance": [],
   "gpuType": "T4"
  },
  "kernelspec": {
   "name": "python3",
   "language": "python",
   "display_name": "Python 3 (ipykernel)"
  },
  "language_info": {
   "name": "python"
  },
  "widgets": {
   "application/vnd.jupyter.widget-state+json": {
    "8c6aa4551eed44feb33c90241dd72a9c": {
     "model_module": "@jupyter-widgets/controls",
     "model_name": "HBoxModel",
     "model_module_version": "1.5.0",
     "state": {
      "_dom_classes": [],
      "_model_module": "@jupyter-widgets/controls",
      "_model_module_version": "1.5.0",
      "_model_name": "HBoxModel",
      "_view_count": null,
      "_view_module": "@jupyter-widgets/controls",
      "_view_module_version": "1.5.0",
      "_view_name": "HBoxView",
      "box_style": "",
      "children": [
       "IPY_MODEL_733997789b3448e78360da4f0e11e2c0",
       "IPY_MODEL_7d2ebb86647242eab95ac1c32a470140",
       "IPY_MODEL_ad5d57cd9988415d8f26e66d7e4c3804"
      ],
      "layout": "IPY_MODEL_01cfbe2cdb1140b58fadbf706778db37"
     }
    },
    "733997789b3448e78360da4f0e11e2c0": {
     "model_module": "@jupyter-widgets/controls",
     "model_name": "HTMLModel",
     "model_module_version": "1.5.0",
     "state": {
      "_dom_classes": [],
      "_model_module": "@jupyter-widgets/controls",
      "_model_module_version": "1.5.0",
      "_model_name": "HTMLModel",
      "_view_count": null,
      "_view_module": "@jupyter-widgets/controls",
      "_view_module_version": "1.5.0",
      "_view_name": "HTMLView",
      "description": "",
      "description_tooltip": null,
      "layout": "IPY_MODEL_065f3f07bc3d4e3da14a166a151c2556",
      "placeholder": "​",
      "style": "IPY_MODEL_9c423e0a9350412d990c87e9fe3e23e7",
      "value": "Stringifying the column: 100%"
     }
    },
    "7d2ebb86647242eab95ac1c32a470140": {
     "model_module": "@jupyter-widgets/controls",
     "model_name": "FloatProgressModel",
     "model_module_version": "1.5.0",
     "state": {
      "_dom_classes": [],
      "_model_module": "@jupyter-widgets/controls",
      "_model_module_version": "1.5.0",
      "_model_name": "FloatProgressModel",
      "_view_count": null,
      "_view_module": "@jupyter-widgets/controls",
      "_view_module_version": "1.5.0",
      "_view_name": "ProgressView",
      "bar_style": "success",
      "description": "",
      "description_tooltip": null,
      "layout": "IPY_MODEL_73b6469752a642afb6a62f833b7bffc7",
      "max": 7613,
      "min": 0,
      "orientation": "horizontal",
      "style": "IPY_MODEL_ba15a047b63b4b2c8354ef29b72db97d",
      "value": 7613
     }
    },
    "ad5d57cd9988415d8f26e66d7e4c3804": {
     "model_module": "@jupyter-widgets/controls",
     "model_name": "HTMLModel",
     "model_module_version": "1.5.0",
     "state": {
      "_dom_classes": [],
      "_model_module": "@jupyter-widgets/controls",
      "_model_module_version": "1.5.0",
      "_model_name": "HTMLModel",
      "_view_count": null,
      "_view_module": "@jupyter-widgets/controls",
      "_view_module_version": "1.5.0",
      "_view_name": "HTMLView",
      "description": "",
      "description_tooltip": null,
      "layout": "IPY_MODEL_f5bbd663d14247258067236ece07aa77",
      "placeholder": "​",
      "style": "IPY_MODEL_771c5599d3f141e29b96f77e37de0e30",
      "value": " 7613/7613 [00:00&lt;00:00, 116736.75 examples/s]"
     }
    },
    "01cfbe2cdb1140b58fadbf706778db37": {
     "model_module": "@jupyter-widgets/base",
     "model_name": "LayoutModel",
     "model_module_version": "1.2.0",
     "state": {
      "_model_module": "@jupyter-widgets/base",
      "_model_module_version": "1.2.0",
      "_model_name": "LayoutModel",
      "_view_count": null,
      "_view_module": "@jupyter-widgets/base",
      "_view_module_version": "1.2.0",
      "_view_name": "LayoutView",
      "align_content": null,
      "align_items": null,
      "align_self": null,
      "border": null,
      "bottom": null,
      "display": null,
      "flex": null,
      "flex_flow": null,
      "grid_area": null,
      "grid_auto_columns": null,
      "grid_auto_flow": null,
      "grid_auto_rows": null,
      "grid_column": null,
      "grid_gap": null,
      "grid_row": null,
      "grid_template_areas": null,
      "grid_template_columns": null,
      "grid_template_rows": null,
      "height": null,
      "justify_content": null,
      "justify_items": null,
      "left": null,
      "margin": null,
      "max_height": null,
      "max_width": null,
      "min_height": null,
      "min_width": null,
      "object_fit": null,
      "object_position": null,
      "order": null,
      "overflow": null,
      "overflow_x": null,
      "overflow_y": null,
      "padding": null,
      "right": null,
      "top": null,
      "visibility": null,
      "width": null
     }
    },
    "065f3f07bc3d4e3da14a166a151c2556": {
     "model_module": "@jupyter-widgets/base",
     "model_name": "LayoutModel",
     "model_module_version": "1.2.0",
     "state": {
      "_model_module": "@jupyter-widgets/base",
      "_model_module_version": "1.2.0",
      "_model_name": "LayoutModel",
      "_view_count": null,
      "_view_module": "@jupyter-widgets/base",
      "_view_module_version": "1.2.0",
      "_view_name": "LayoutView",
      "align_content": null,
      "align_items": null,
      "align_self": null,
      "border": null,
      "bottom": null,
      "display": null,
      "flex": null,
      "flex_flow": null,
      "grid_area": null,
      "grid_auto_columns": null,
      "grid_auto_flow": null,
      "grid_auto_rows": null,
      "grid_column": null,
      "grid_gap": null,
      "grid_row": null,
      "grid_template_areas": null,
      "grid_template_columns": null,
      "grid_template_rows": null,
      "height": null,
      "justify_content": null,
      "justify_items": null,
      "left": null,
      "margin": null,
      "max_height": null,
      "max_width": null,
      "min_height": null,
      "min_width": null,
      "object_fit": null,
      "object_position": null,
      "order": null,
      "overflow": null,
      "overflow_x": null,
      "overflow_y": null,
      "padding": null,
      "right": null,
      "top": null,
      "visibility": null,
      "width": null
     }
    },
    "9c423e0a9350412d990c87e9fe3e23e7": {
     "model_module": "@jupyter-widgets/controls",
     "model_name": "DescriptionStyleModel",
     "model_module_version": "1.5.0",
     "state": {
      "_model_module": "@jupyter-widgets/controls",
      "_model_module_version": "1.5.0",
      "_model_name": "DescriptionStyleModel",
      "_view_count": null,
      "_view_module": "@jupyter-widgets/base",
      "_view_module_version": "1.2.0",
      "_view_name": "StyleView",
      "description_width": ""
     }
    },
    "73b6469752a642afb6a62f833b7bffc7": {
     "model_module": "@jupyter-widgets/base",
     "model_name": "LayoutModel",
     "model_module_version": "1.2.0",
     "state": {
      "_model_module": "@jupyter-widgets/base",
      "_model_module_version": "1.2.0",
      "_model_name": "LayoutModel",
      "_view_count": null,
      "_view_module": "@jupyter-widgets/base",
      "_view_module_version": "1.2.0",
      "_view_name": "LayoutView",
      "align_content": null,
      "align_items": null,
      "align_self": null,
      "border": null,
      "bottom": null,
      "display": null,
      "flex": null,
      "flex_flow": null,
      "grid_area": null,
      "grid_auto_columns": null,
      "grid_auto_flow": null,
      "grid_auto_rows": null,
      "grid_column": null,
      "grid_gap": null,
      "grid_row": null,
      "grid_template_areas": null,
      "grid_template_columns": null,
      "grid_template_rows": null,
      "height": null,
      "justify_content": null,
      "justify_items": null,
      "left": null,
      "margin": null,
      "max_height": null,
      "max_width": null,
      "min_height": null,
      "min_width": null,
      "object_fit": null,
      "object_position": null,
      "order": null,
      "overflow": null,
      "overflow_x": null,
      "overflow_y": null,
      "padding": null,
      "right": null,
      "top": null,
      "visibility": null,
      "width": null
     }
    },
    "ba15a047b63b4b2c8354ef29b72db97d": {
     "model_module": "@jupyter-widgets/controls",
     "model_name": "ProgressStyleModel",
     "model_module_version": "1.5.0",
     "state": {
      "_model_module": "@jupyter-widgets/controls",
      "_model_module_version": "1.5.0",
      "_model_name": "ProgressStyleModel",
      "_view_count": null,
      "_view_module": "@jupyter-widgets/base",
      "_view_module_version": "1.2.0",
      "_view_name": "StyleView",
      "bar_color": null,
      "description_width": ""
     }
    },
    "f5bbd663d14247258067236ece07aa77": {
     "model_module": "@jupyter-widgets/base",
     "model_name": "LayoutModel",
     "model_module_version": "1.2.0",
     "state": {
      "_model_module": "@jupyter-widgets/base",
      "_model_module_version": "1.2.0",
      "_model_name": "LayoutModel",
      "_view_count": null,
      "_view_module": "@jupyter-widgets/base",
      "_view_module_version": "1.2.0",
      "_view_name": "LayoutView",
      "align_content": null,
      "align_items": null,
      "align_self": null,
      "border": null,
      "bottom": null,
      "display": null,
      "flex": null,
      "flex_flow": null,
      "grid_area": null,
      "grid_auto_columns": null,
      "grid_auto_flow": null,
      "grid_auto_rows": null,
      "grid_column": null,
      "grid_gap": null,
      "grid_row": null,
      "grid_template_areas": null,
      "grid_template_columns": null,
      "grid_template_rows": null,
      "height": null,
      "justify_content": null,
      "justify_items": null,
      "left": null,
      "margin": null,
      "max_height": null,
      "max_width": null,
      "min_height": null,
      "min_width": null,
      "object_fit": null,
      "object_position": null,
      "order": null,
      "overflow": null,
      "overflow_x": null,
      "overflow_y": null,
      "padding": null,
      "right": null,
      "top": null,
      "visibility": null,
      "width": null
     }
    },
    "771c5599d3f141e29b96f77e37de0e30": {
     "model_module": "@jupyter-widgets/controls",
     "model_name": "DescriptionStyleModel",
     "model_module_version": "1.5.0",
     "state": {
      "_model_module": "@jupyter-widgets/controls",
      "_model_module_version": "1.5.0",
      "_model_name": "DescriptionStyleModel",
      "_view_count": null,
      "_view_module": "@jupyter-widgets/base",
      "_view_module_version": "1.2.0",
      "_view_name": "StyleView",
      "description_width": ""
     }
    },
    "3ace9c3f6b0e43f7a019308bc55976de": {
     "model_module": "@jupyter-widgets/controls",
     "model_name": "HBoxModel",
     "model_module_version": "1.5.0",
     "state": {
      "_dom_classes": [],
      "_model_module": "@jupyter-widgets/controls",
      "_model_module_version": "1.5.0",
      "_model_name": "HBoxModel",
      "_view_count": null,
      "_view_module": "@jupyter-widgets/controls",
      "_view_module_version": "1.5.0",
      "_view_name": "HBoxView",
      "box_style": "",
      "children": [
       "IPY_MODEL_7547f8ce9d9e4c968f8c3a5bce8ec325",
       "IPY_MODEL_ef7f2da7ac7b43dc9028cb4ad2089383",
       "IPY_MODEL_4957dd7597cc42c08d71f879a1d85e66"
      ],
      "layout": "IPY_MODEL_a41dad387df54b03b7bad6398f7f14a5"
     }
    },
    "7547f8ce9d9e4c968f8c3a5bce8ec325": {
     "model_module": "@jupyter-widgets/controls",
     "model_name": "HTMLModel",
     "model_module_version": "1.5.0",
     "state": {
      "_dom_classes": [],
      "_model_module": "@jupyter-widgets/controls",
      "_model_module_version": "1.5.0",
      "_model_name": "HTMLModel",
      "_view_count": null,
      "_view_module": "@jupyter-widgets/controls",
      "_view_module_version": "1.5.0",
      "_view_name": "HTMLView",
      "description": "",
      "description_tooltip": null,
      "layout": "IPY_MODEL_6b766776225e4c3dad016eb7070c47e2",
      "placeholder": "​",
      "style": "IPY_MODEL_ae97d3675dc8426b90d6ab66e3164477",
      "value": "Casting to class labels: 100%"
     }
    },
    "ef7f2da7ac7b43dc9028cb4ad2089383": {
     "model_module": "@jupyter-widgets/controls",
     "model_name": "FloatProgressModel",
     "model_module_version": "1.5.0",
     "state": {
      "_dom_classes": [],
      "_model_module": "@jupyter-widgets/controls",
      "_model_module_version": "1.5.0",
      "_model_name": "FloatProgressModel",
      "_view_count": null,
      "_view_module": "@jupyter-widgets/controls",
      "_view_module_version": "1.5.0",
      "_view_name": "ProgressView",
      "bar_style": "success",
      "description": "",
      "description_tooltip": null,
      "layout": "IPY_MODEL_2c2f6c7246484ec2a03417e8b162f885",
      "max": 7613,
      "min": 0,
      "orientation": "horizontal",
      "style": "IPY_MODEL_44d19be22d9848adb68da0ac57e816a5",
      "value": 7613
     }
    },
    "4957dd7597cc42c08d71f879a1d85e66": {
     "model_module": "@jupyter-widgets/controls",
     "model_name": "HTMLModel",
     "model_module_version": "1.5.0",
     "state": {
      "_dom_classes": [],
      "_model_module": "@jupyter-widgets/controls",
      "_model_module_version": "1.5.0",
      "_model_name": "HTMLModel",
      "_view_count": null,
      "_view_module": "@jupyter-widgets/controls",
      "_view_module_version": "1.5.0",
      "_view_name": "HTMLView",
      "description": "",
      "description_tooltip": null,
      "layout": "IPY_MODEL_65350c04b3384edc899409ee133b20be",
      "placeholder": "​",
      "style": "IPY_MODEL_3ef644bd08d5459fb877287ffc6a578d",
      "value": " 7613/7613 [00:00&lt;00:00, 65060.10 examples/s]"
     }
    },
    "a41dad387df54b03b7bad6398f7f14a5": {
     "model_module": "@jupyter-widgets/base",
     "model_name": "LayoutModel",
     "model_module_version": "1.2.0",
     "state": {
      "_model_module": "@jupyter-widgets/base",
      "_model_module_version": "1.2.0",
      "_model_name": "LayoutModel",
      "_view_count": null,
      "_view_module": "@jupyter-widgets/base",
      "_view_module_version": "1.2.0",
      "_view_name": "LayoutView",
      "align_content": null,
      "align_items": null,
      "align_self": null,
      "border": null,
      "bottom": null,
      "display": null,
      "flex": null,
      "flex_flow": null,
      "grid_area": null,
      "grid_auto_columns": null,
      "grid_auto_flow": null,
      "grid_auto_rows": null,
      "grid_column": null,
      "grid_gap": null,
      "grid_row": null,
      "grid_template_areas": null,
      "grid_template_columns": null,
      "grid_template_rows": null,
      "height": null,
      "justify_content": null,
      "justify_items": null,
      "left": null,
      "margin": null,
      "max_height": null,
      "max_width": null,
      "min_height": null,
      "min_width": null,
      "object_fit": null,
      "object_position": null,
      "order": null,
      "overflow": null,
      "overflow_x": null,
      "overflow_y": null,
      "padding": null,
      "right": null,
      "top": null,
      "visibility": null,
      "width": null
     }
    },
    "6b766776225e4c3dad016eb7070c47e2": {
     "model_module": "@jupyter-widgets/base",
     "model_name": "LayoutModel",
     "model_module_version": "1.2.0",
     "state": {
      "_model_module": "@jupyter-widgets/base",
      "_model_module_version": "1.2.0",
      "_model_name": "LayoutModel",
      "_view_count": null,
      "_view_module": "@jupyter-widgets/base",
      "_view_module_version": "1.2.0",
      "_view_name": "LayoutView",
      "align_content": null,
      "align_items": null,
      "align_self": null,
      "border": null,
      "bottom": null,
      "display": null,
      "flex": null,
      "flex_flow": null,
      "grid_area": null,
      "grid_auto_columns": null,
      "grid_auto_flow": null,
      "grid_auto_rows": null,
      "grid_column": null,
      "grid_gap": null,
      "grid_row": null,
      "grid_template_areas": null,
      "grid_template_columns": null,
      "grid_template_rows": null,
      "height": null,
      "justify_content": null,
      "justify_items": null,
      "left": null,
      "margin": null,
      "max_height": null,
      "max_width": null,
      "min_height": null,
      "min_width": null,
      "object_fit": null,
      "object_position": null,
      "order": null,
      "overflow": null,
      "overflow_x": null,
      "overflow_y": null,
      "padding": null,
      "right": null,
      "top": null,
      "visibility": null,
      "width": null
     }
    },
    "ae97d3675dc8426b90d6ab66e3164477": {
     "model_module": "@jupyter-widgets/controls",
     "model_name": "DescriptionStyleModel",
     "model_module_version": "1.5.0",
     "state": {
      "_model_module": "@jupyter-widgets/controls",
      "_model_module_version": "1.5.0",
      "_model_name": "DescriptionStyleModel",
      "_view_count": null,
      "_view_module": "@jupyter-widgets/base",
      "_view_module_version": "1.2.0",
      "_view_name": "StyleView",
      "description_width": ""
     }
    },
    "2c2f6c7246484ec2a03417e8b162f885": {
     "model_module": "@jupyter-widgets/base",
     "model_name": "LayoutModel",
     "model_module_version": "1.2.0",
     "state": {
      "_model_module": "@jupyter-widgets/base",
      "_model_module_version": "1.2.0",
      "_model_name": "LayoutModel",
      "_view_count": null,
      "_view_module": "@jupyter-widgets/base",
      "_view_module_version": "1.2.0",
      "_view_name": "LayoutView",
      "align_content": null,
      "align_items": null,
      "align_self": null,
      "border": null,
      "bottom": null,
      "display": null,
      "flex": null,
      "flex_flow": null,
      "grid_area": null,
      "grid_auto_columns": null,
      "grid_auto_flow": null,
      "grid_auto_rows": null,
      "grid_column": null,
      "grid_gap": null,
      "grid_row": null,
      "grid_template_areas": null,
      "grid_template_columns": null,
      "grid_template_rows": null,
      "height": null,
      "justify_content": null,
      "justify_items": null,
      "left": null,
      "margin": null,
      "max_height": null,
      "max_width": null,
      "min_height": null,
      "min_width": null,
      "object_fit": null,
      "object_position": null,
      "order": null,
      "overflow": null,
      "overflow_x": null,
      "overflow_y": null,
      "padding": null,
      "right": null,
      "top": null,
      "visibility": null,
      "width": null
     }
    },
    "44d19be22d9848adb68da0ac57e816a5": {
     "model_module": "@jupyter-widgets/controls",
     "model_name": "ProgressStyleModel",
     "model_module_version": "1.5.0",
     "state": {
      "_model_module": "@jupyter-widgets/controls",
      "_model_module_version": "1.5.0",
      "_model_name": "ProgressStyleModel",
      "_view_count": null,
      "_view_module": "@jupyter-widgets/base",
      "_view_module_version": "1.2.0",
      "_view_name": "StyleView",
      "bar_color": null,
      "description_width": ""
     }
    },
    "65350c04b3384edc899409ee133b20be": {
     "model_module": "@jupyter-widgets/base",
     "model_name": "LayoutModel",
     "model_module_version": "1.2.0",
     "state": {
      "_model_module": "@jupyter-widgets/base",
      "_model_module_version": "1.2.0",
      "_model_name": "LayoutModel",
      "_view_count": null,
      "_view_module": "@jupyter-widgets/base",
      "_view_module_version": "1.2.0",
      "_view_name": "LayoutView",
      "align_content": null,
      "align_items": null,
      "align_self": null,
      "border": null,
      "bottom": null,
      "display": null,
      "flex": null,
      "flex_flow": null,
      "grid_area": null,
      "grid_auto_columns": null,
      "grid_auto_flow": null,
      "grid_auto_rows": null,
      "grid_column": null,
      "grid_gap": null,
      "grid_row": null,
      "grid_template_areas": null,
      "grid_template_columns": null,
      "grid_template_rows": null,
      "height": null,
      "justify_content": null,
      "justify_items": null,
      "left": null,
      "margin": null,
      "max_height": null,
      "max_width": null,
      "min_height": null,
      "min_width": null,
      "object_fit": null,
      "object_position": null,
      "order": null,
      "overflow": null,
      "overflow_x": null,
      "overflow_y": null,
      "padding": null,
      "right": null,
      "top": null,
      "visibility": null,
      "width": null
     }
    },
    "3ef644bd08d5459fb877287ffc6a578d": {
     "model_module": "@jupyter-widgets/controls",
     "model_name": "DescriptionStyleModel",
     "model_module_version": "1.5.0",
     "state": {
      "_model_module": "@jupyter-widgets/controls",
      "_model_module_version": "1.5.0",
      "_model_name": "DescriptionStyleModel",
      "_view_count": null,
      "_view_module": "@jupyter-widgets/base",
      "_view_module_version": "1.2.0",
      "_view_name": "StyleView",
      "description_width": ""
     }
    },
    "09af69b58623414a8eb1d1b8e0b006bf": {
     "model_module": "@jupyter-widgets/controls",
     "model_name": "HBoxModel",
     "model_module_version": "1.5.0",
     "state": {
      "_dom_classes": [],
      "_model_module": "@jupyter-widgets/controls",
      "_model_module_version": "1.5.0",
      "_model_name": "HBoxModel",
      "_view_count": null,
      "_view_module": "@jupyter-widgets/controls",
      "_view_module_version": "1.5.0",
      "_view_name": "HBoxView",
      "box_style": "",
      "children": [
       "IPY_MODEL_a3027a1472274a4ea80f2d559efbee99",
       "IPY_MODEL_902c9680aac54930b8774723ccfd2757",
       "IPY_MODEL_6fb9b0e155ab4467b46c90f9dc54540e"
      ],
      "layout": "IPY_MODEL_9457aebd37fc46ab99a2a723ff53fc9a"
     }
    },
    "a3027a1472274a4ea80f2d559efbee99": {
     "model_module": "@jupyter-widgets/controls",
     "model_name": "HTMLModel",
     "model_module_version": "1.5.0",
     "state": {
      "_dom_classes": [],
      "_model_module": "@jupyter-widgets/controls",
      "_model_module_version": "1.5.0",
      "_model_name": "HTMLModel",
      "_view_count": null,
      "_view_module": "@jupyter-widgets/controls",
      "_view_module_version": "1.5.0",
      "_view_name": "HTMLView",
      "description": "",
      "description_tooltip": null,
      "layout": "IPY_MODEL_2a04764911c746ce98a18eb0c910e1df",
      "placeholder": "​",
      "style": "IPY_MODEL_790459140bb24ce19ed5f5e2bab0902b",
      "value": "Map: 100%"
     }
    },
    "902c9680aac54930b8774723ccfd2757": {
     "model_module": "@jupyter-widgets/controls",
     "model_name": "FloatProgressModel",
     "model_module_version": "1.5.0",
     "state": {
      "_dom_classes": [],
      "_model_module": "@jupyter-widgets/controls",
      "_model_module_version": "1.5.0",
      "_model_name": "FloatProgressModel",
      "_view_count": null,
      "_view_module": "@jupyter-widgets/controls",
      "_view_module_version": "1.5.0",
      "_view_name": "ProgressView",
      "bar_style": "success",
      "description": "",
      "description_tooltip": null,
      "layout": "IPY_MODEL_fa5080052efc4e9d90c53d7083f896a4",
      "max": 6090,
      "min": 0,
      "orientation": "horizontal",
      "style": "IPY_MODEL_4ad2e05971224e5d8df74e6ec1c2529a",
      "value": 6090
     }
    },
    "6fb9b0e155ab4467b46c90f9dc54540e": {
     "model_module": "@jupyter-widgets/controls",
     "model_name": "HTMLModel",
     "model_module_version": "1.5.0",
     "state": {
      "_dom_classes": [],
      "_model_module": "@jupyter-widgets/controls",
      "_model_module_version": "1.5.0",
      "_model_name": "HTMLModel",
      "_view_count": null,
      "_view_module": "@jupyter-widgets/controls",
      "_view_module_version": "1.5.0",
      "_view_name": "HTMLView",
      "description": "",
      "description_tooltip": null,
      "layout": "IPY_MODEL_4eb951d68163458dab2fbbf85dfe4a90",
      "placeholder": "​",
      "style": "IPY_MODEL_18ee5433a8b3448fa3748fbbdab43fa7",
      "value": " 6090/6090 [00:01&lt;00:00, 3872.51 examples/s]"
     }
    },
    "9457aebd37fc46ab99a2a723ff53fc9a": {
     "model_module": "@jupyter-widgets/base",
     "model_name": "LayoutModel",
     "model_module_version": "1.2.0",
     "state": {
      "_model_module": "@jupyter-widgets/base",
      "_model_module_version": "1.2.0",
      "_model_name": "LayoutModel",
      "_view_count": null,
      "_view_module": "@jupyter-widgets/base",
      "_view_module_version": "1.2.0",
      "_view_name": "LayoutView",
      "align_content": null,
      "align_items": null,
      "align_self": null,
      "border": null,
      "bottom": null,
      "display": null,
      "flex": null,
      "flex_flow": null,
      "grid_area": null,
      "grid_auto_columns": null,
      "grid_auto_flow": null,
      "grid_auto_rows": null,
      "grid_column": null,
      "grid_gap": null,
      "grid_row": null,
      "grid_template_areas": null,
      "grid_template_columns": null,
      "grid_template_rows": null,
      "height": null,
      "justify_content": null,
      "justify_items": null,
      "left": null,
      "margin": null,
      "max_height": null,
      "max_width": null,
      "min_height": null,
      "min_width": null,
      "object_fit": null,
      "object_position": null,
      "order": null,
      "overflow": null,
      "overflow_x": null,
      "overflow_y": null,
      "padding": null,
      "right": null,
      "top": null,
      "visibility": null,
      "width": null
     }
    },
    "2a04764911c746ce98a18eb0c910e1df": {
     "model_module": "@jupyter-widgets/base",
     "model_name": "LayoutModel",
     "model_module_version": "1.2.0",
     "state": {
      "_model_module": "@jupyter-widgets/base",
      "_model_module_version": "1.2.0",
      "_model_name": "LayoutModel",
      "_view_count": null,
      "_view_module": "@jupyter-widgets/base",
      "_view_module_version": "1.2.0",
      "_view_name": "LayoutView",
      "align_content": null,
      "align_items": null,
      "align_self": null,
      "border": null,
      "bottom": null,
      "display": null,
      "flex": null,
      "flex_flow": null,
      "grid_area": null,
      "grid_auto_columns": null,
      "grid_auto_flow": null,
      "grid_auto_rows": null,
      "grid_column": null,
      "grid_gap": null,
      "grid_row": null,
      "grid_template_areas": null,
      "grid_template_columns": null,
      "grid_template_rows": null,
      "height": null,
      "justify_content": null,
      "justify_items": null,
      "left": null,
      "margin": null,
      "max_height": null,
      "max_width": null,
      "min_height": null,
      "min_width": null,
      "object_fit": null,
      "object_position": null,
      "order": null,
      "overflow": null,
      "overflow_x": null,
      "overflow_y": null,
      "padding": null,
      "right": null,
      "top": null,
      "visibility": null,
      "width": null
     }
    },
    "790459140bb24ce19ed5f5e2bab0902b": {
     "model_module": "@jupyter-widgets/controls",
     "model_name": "DescriptionStyleModel",
     "model_module_version": "1.5.0",
     "state": {
      "_model_module": "@jupyter-widgets/controls",
      "_model_module_version": "1.5.0",
      "_model_name": "DescriptionStyleModel",
      "_view_count": null,
      "_view_module": "@jupyter-widgets/base",
      "_view_module_version": "1.2.0",
      "_view_name": "StyleView",
      "description_width": ""
     }
    },
    "fa5080052efc4e9d90c53d7083f896a4": {
     "model_module": "@jupyter-widgets/base",
     "model_name": "LayoutModel",
     "model_module_version": "1.2.0",
     "state": {
      "_model_module": "@jupyter-widgets/base",
      "_model_module_version": "1.2.0",
      "_model_name": "LayoutModel",
      "_view_count": null,
      "_view_module": "@jupyter-widgets/base",
      "_view_module_version": "1.2.0",
      "_view_name": "LayoutView",
      "align_content": null,
      "align_items": null,
      "align_self": null,
      "border": null,
      "bottom": null,
      "display": null,
      "flex": null,
      "flex_flow": null,
      "grid_area": null,
      "grid_auto_columns": null,
      "grid_auto_flow": null,
      "grid_auto_rows": null,
      "grid_column": null,
      "grid_gap": null,
      "grid_row": null,
      "grid_template_areas": null,
      "grid_template_columns": null,
      "grid_template_rows": null,
      "height": null,
      "justify_content": null,
      "justify_items": null,
      "left": null,
      "margin": null,
      "max_height": null,
      "max_width": null,
      "min_height": null,
      "min_width": null,
      "object_fit": null,
      "object_position": null,
      "order": null,
      "overflow": null,
      "overflow_x": null,
      "overflow_y": null,
      "padding": null,
      "right": null,
      "top": null,
      "visibility": null,
      "width": null
     }
    },
    "4ad2e05971224e5d8df74e6ec1c2529a": {
     "model_module": "@jupyter-widgets/controls",
     "model_name": "ProgressStyleModel",
     "model_module_version": "1.5.0",
     "state": {
      "_model_module": "@jupyter-widgets/controls",
      "_model_module_version": "1.5.0",
      "_model_name": "ProgressStyleModel",
      "_view_count": null,
      "_view_module": "@jupyter-widgets/base",
      "_view_module_version": "1.2.0",
      "_view_name": "StyleView",
      "bar_color": null,
      "description_width": ""
     }
    },
    "4eb951d68163458dab2fbbf85dfe4a90": {
     "model_module": "@jupyter-widgets/base",
     "model_name": "LayoutModel",
     "model_module_version": "1.2.0",
     "state": {
      "_model_module": "@jupyter-widgets/base",
      "_model_module_version": "1.2.0",
      "_model_name": "LayoutModel",
      "_view_count": null,
      "_view_module": "@jupyter-widgets/base",
      "_view_module_version": "1.2.0",
      "_view_name": "LayoutView",
      "align_content": null,
      "align_items": null,
      "align_self": null,
      "border": null,
      "bottom": null,
      "display": null,
      "flex": null,
      "flex_flow": null,
      "grid_area": null,
      "grid_auto_columns": null,
      "grid_auto_flow": null,
      "grid_auto_rows": null,
      "grid_column": null,
      "grid_gap": null,
      "grid_row": null,
      "grid_template_areas": null,
      "grid_template_columns": null,
      "grid_template_rows": null,
      "height": null,
      "justify_content": null,
      "justify_items": null,
      "left": null,
      "margin": null,
      "max_height": null,
      "max_width": null,
      "min_height": null,
      "min_width": null,
      "object_fit": null,
      "object_position": null,
      "order": null,
      "overflow": null,
      "overflow_x": null,
      "overflow_y": null,
      "padding": null,
      "right": null,
      "top": null,
      "visibility": null,
      "width": null
     }
    },
    "18ee5433a8b3448fa3748fbbdab43fa7": {
     "model_module": "@jupyter-widgets/controls",
     "model_name": "DescriptionStyleModel",
     "model_module_version": "1.5.0",
     "state": {
      "_model_module": "@jupyter-widgets/controls",
      "_model_module_version": "1.5.0",
      "_model_name": "DescriptionStyleModel",
      "_view_count": null,
      "_view_module": "@jupyter-widgets/base",
      "_view_module_version": "1.2.0",
      "_view_name": "StyleView",
      "description_width": ""
     }
    },
    "5c13277771aa4ee38d9e078e4903a724": {
     "model_module": "@jupyter-widgets/controls",
     "model_name": "HBoxModel",
     "model_module_version": "1.5.0",
     "state": {
      "_dom_classes": [],
      "_model_module": "@jupyter-widgets/controls",
      "_model_module_version": "1.5.0",
      "_model_name": "HBoxModel",
      "_view_count": null,
      "_view_module": "@jupyter-widgets/controls",
      "_view_module_version": "1.5.0",
      "_view_name": "HBoxView",
      "box_style": "",
      "children": [
       "IPY_MODEL_673fc1944eec43f09b9aad65513efabd",
       "IPY_MODEL_807fddffcb0446e9814588faf55f9b0f",
       "IPY_MODEL_79c5394347b54bda8e6f118526e61961"
      ],
      "layout": "IPY_MODEL_8e2c08b48d2c4ff682c460b82a9ac0ed"
     }
    },
    "673fc1944eec43f09b9aad65513efabd": {
     "model_module": "@jupyter-widgets/controls",
     "model_name": "HTMLModel",
     "model_module_version": "1.5.0",
     "state": {
      "_dom_classes": [],
      "_model_module": "@jupyter-widgets/controls",
      "_model_module_version": "1.5.0",
      "_model_name": "HTMLModel",
      "_view_count": null,
      "_view_module": "@jupyter-widgets/controls",
      "_view_module_version": "1.5.0",
      "_view_name": "HTMLView",
      "description": "",
      "description_tooltip": null,
      "layout": "IPY_MODEL_3c5993ef078c4b4e82a910b9c54393b2",
      "placeholder": "​",
      "style": "IPY_MODEL_94c9ecbb7d5f4d63a222493399590c6b",
      "value": "Map: 100%"
     }
    },
    "807fddffcb0446e9814588faf55f9b0f": {
     "model_module": "@jupyter-widgets/controls",
     "model_name": "FloatProgressModel",
     "model_module_version": "1.5.0",
     "state": {
      "_dom_classes": [],
      "_model_module": "@jupyter-widgets/controls",
      "_model_module_version": "1.5.0",
      "_model_name": "FloatProgressModel",
      "_view_count": null,
      "_view_module": "@jupyter-widgets/controls",
      "_view_module_version": "1.5.0",
      "_view_name": "ProgressView",
      "bar_style": "success",
      "description": "",
      "description_tooltip": null,
      "layout": "IPY_MODEL_b48eb38b88c54fee82d37423b7260edb",
      "max": 1523,
      "min": 0,
      "orientation": "horizontal",
      "style": "IPY_MODEL_8ec01d5cb05e4dde997a860bbd694385",
      "value": 1523
     }
    },
    "79c5394347b54bda8e6f118526e61961": {
     "model_module": "@jupyter-widgets/controls",
     "model_name": "HTMLModel",
     "model_module_version": "1.5.0",
     "state": {
      "_dom_classes": [],
      "_model_module": "@jupyter-widgets/controls",
      "_model_module_version": "1.5.0",
      "_model_name": "HTMLModel",
      "_view_count": null,
      "_view_module": "@jupyter-widgets/controls",
      "_view_module_version": "1.5.0",
      "_view_name": "HTMLView",
      "description": "",
      "description_tooltip": null,
      "layout": "IPY_MODEL_ab6e3068d8cf4e20acc9e69455787ada",
      "placeholder": "​",
      "style": "IPY_MODEL_09b6c963a09c453181a58be373fd6b6c",
      "value": " 1523/1523 [00:00&lt;00:00, 3512.32 examples/s]"
     }
    },
    "8e2c08b48d2c4ff682c460b82a9ac0ed": {
     "model_module": "@jupyter-widgets/base",
     "model_name": "LayoutModel",
     "model_module_version": "1.2.0",
     "state": {
      "_model_module": "@jupyter-widgets/base",
      "_model_module_version": "1.2.0",
      "_model_name": "LayoutModel",
      "_view_count": null,
      "_view_module": "@jupyter-widgets/base",
      "_view_module_version": "1.2.0",
      "_view_name": "LayoutView",
      "align_content": null,
      "align_items": null,
      "align_self": null,
      "border": null,
      "bottom": null,
      "display": null,
      "flex": null,
      "flex_flow": null,
      "grid_area": null,
      "grid_auto_columns": null,
      "grid_auto_flow": null,
      "grid_auto_rows": null,
      "grid_column": null,
      "grid_gap": null,
      "grid_row": null,
      "grid_template_areas": null,
      "grid_template_columns": null,
      "grid_template_rows": null,
      "height": null,
      "justify_content": null,
      "justify_items": null,
      "left": null,
      "margin": null,
      "max_height": null,
      "max_width": null,
      "min_height": null,
      "min_width": null,
      "object_fit": null,
      "object_position": null,
      "order": null,
      "overflow": null,
      "overflow_x": null,
      "overflow_y": null,
      "padding": null,
      "right": null,
      "top": null,
      "visibility": null,
      "width": null
     }
    },
    "3c5993ef078c4b4e82a910b9c54393b2": {
     "model_module": "@jupyter-widgets/base",
     "model_name": "LayoutModel",
     "model_module_version": "1.2.0",
     "state": {
      "_model_module": "@jupyter-widgets/base",
      "_model_module_version": "1.2.0",
      "_model_name": "LayoutModel",
      "_view_count": null,
      "_view_module": "@jupyter-widgets/base",
      "_view_module_version": "1.2.0",
      "_view_name": "LayoutView",
      "align_content": null,
      "align_items": null,
      "align_self": null,
      "border": null,
      "bottom": null,
      "display": null,
      "flex": null,
      "flex_flow": null,
      "grid_area": null,
      "grid_auto_columns": null,
      "grid_auto_flow": null,
      "grid_auto_rows": null,
      "grid_column": null,
      "grid_gap": null,
      "grid_row": null,
      "grid_template_areas": null,
      "grid_template_columns": null,
      "grid_template_rows": null,
      "height": null,
      "justify_content": null,
      "justify_items": null,
      "left": null,
      "margin": null,
      "max_height": null,
      "max_width": null,
      "min_height": null,
      "min_width": null,
      "object_fit": null,
      "object_position": null,
      "order": null,
      "overflow": null,
      "overflow_x": null,
      "overflow_y": null,
      "padding": null,
      "right": null,
      "top": null,
      "visibility": null,
      "width": null
     }
    },
    "94c9ecbb7d5f4d63a222493399590c6b": {
     "model_module": "@jupyter-widgets/controls",
     "model_name": "DescriptionStyleModel",
     "model_module_version": "1.5.0",
     "state": {
      "_model_module": "@jupyter-widgets/controls",
      "_model_module_version": "1.5.0",
      "_model_name": "DescriptionStyleModel",
      "_view_count": null,
      "_view_module": "@jupyter-widgets/base",
      "_view_module_version": "1.2.0",
      "_view_name": "StyleView",
      "description_width": ""
     }
    },
    "b48eb38b88c54fee82d37423b7260edb": {
     "model_module": "@jupyter-widgets/base",
     "model_name": "LayoutModel",
     "model_module_version": "1.2.0",
     "state": {
      "_model_module": "@jupyter-widgets/base",
      "_model_module_version": "1.2.0",
      "_model_name": "LayoutModel",
      "_view_count": null,
      "_view_module": "@jupyter-widgets/base",
      "_view_module_version": "1.2.0",
      "_view_name": "LayoutView",
      "align_content": null,
      "align_items": null,
      "align_self": null,
      "border": null,
      "bottom": null,
      "display": null,
      "flex": null,
      "flex_flow": null,
      "grid_area": null,
      "grid_auto_columns": null,
      "grid_auto_flow": null,
      "grid_auto_rows": null,
      "grid_column": null,
      "grid_gap": null,
      "grid_row": null,
      "grid_template_areas": null,
      "grid_template_columns": null,
      "grid_template_rows": null,
      "height": null,
      "justify_content": null,
      "justify_items": null,
      "left": null,
      "margin": null,
      "max_height": null,
      "max_width": null,
      "min_height": null,
      "min_width": null,
      "object_fit": null,
      "object_position": null,
      "order": null,
      "overflow": null,
      "overflow_x": null,
      "overflow_y": null,
      "padding": null,
      "right": null,
      "top": null,
      "visibility": null,
      "width": null
     }
    },
    "8ec01d5cb05e4dde997a860bbd694385": {
     "model_module": "@jupyter-widgets/controls",
     "model_name": "ProgressStyleModel",
     "model_module_version": "1.5.0",
     "state": {
      "_model_module": "@jupyter-widgets/controls",
      "_model_module_version": "1.5.0",
      "_model_name": "ProgressStyleModel",
      "_view_count": null,
      "_view_module": "@jupyter-widgets/base",
      "_view_module_version": "1.2.0",
      "_view_name": "StyleView",
      "bar_color": null,
      "description_width": ""
     }
    },
    "ab6e3068d8cf4e20acc9e69455787ada": {
     "model_module": "@jupyter-widgets/base",
     "model_name": "LayoutModel",
     "model_module_version": "1.2.0",
     "state": {
      "_model_module": "@jupyter-widgets/base",
      "_model_module_version": "1.2.0",
      "_model_name": "LayoutModel",
      "_view_count": null,
      "_view_module": "@jupyter-widgets/base",
      "_view_module_version": "1.2.0",
      "_view_name": "LayoutView",
      "align_content": null,
      "align_items": null,
      "align_self": null,
      "border": null,
      "bottom": null,
      "display": null,
      "flex": null,
      "flex_flow": null,
      "grid_area": null,
      "grid_auto_columns": null,
      "grid_auto_flow": null,
      "grid_auto_rows": null,
      "grid_column": null,
      "grid_gap": null,
      "grid_row": null,
      "grid_template_areas": null,
      "grid_template_columns": null,
      "grid_template_rows": null,
      "height": null,
      "justify_content": null,
      "justify_items": null,
      "left": null,
      "margin": null,
      "max_height": null,
      "max_width": null,
      "min_height": null,
      "min_width": null,
      "object_fit": null,
      "object_position": null,
      "order": null,
      "overflow": null,
      "overflow_x": null,
      "overflow_y": null,
      "padding": null,
      "right": null,
      "top": null,
      "visibility": null,
      "width": null
     }
    },
    "09b6c963a09c453181a58be373fd6b6c": {
     "model_module": "@jupyter-widgets/controls",
     "model_name": "DescriptionStyleModel",
     "model_module_version": "1.5.0",
     "state": {
      "_model_module": "@jupyter-widgets/controls",
      "_model_module_version": "1.5.0",
      "_model_name": "DescriptionStyleModel",
      "_view_count": null,
      "_view_module": "@jupyter-widgets/base",
      "_view_module_version": "1.2.0",
      "_view_name": "StyleView",
      "description_width": ""
     }
    },
    "728cc094f6184f6daab1b62122803e25": {
     "model_module": "@jupyter-widgets/controls",
     "model_name": "HBoxModel",
     "model_module_version": "1.5.0",
     "state": {
      "_dom_classes": [],
      "_model_module": "@jupyter-widgets/controls",
      "_model_module_version": "1.5.0",
      "_model_name": "HBoxModel",
      "_view_count": null,
      "_view_module": "@jupyter-widgets/controls",
      "_view_module_version": "1.5.0",
      "_view_name": "HBoxView",
      "box_style": "",
      "children": [
       "IPY_MODEL_1454a04582ab4d81a21053b463f02166",
       "IPY_MODEL_c83c30568e924e66aa68e08cfa7ade2b",
       "IPY_MODEL_7b31e6a169b041e4b0f72f9c9121fd1f"
      ],
      "layout": "IPY_MODEL_ff759e32aadf43f19897c8688b060237"
     }
    },
    "1454a04582ab4d81a21053b463f02166": {
     "model_module": "@jupyter-widgets/controls",
     "model_name": "HTMLModel",
     "model_module_version": "1.5.0",
     "state": {
      "_dom_classes": [],
      "_model_module": "@jupyter-widgets/controls",
      "_model_module_version": "1.5.0",
      "_model_name": "HTMLModel",
      "_view_count": null,
      "_view_module": "@jupyter-widgets/controls",
      "_view_module_version": "1.5.0",
      "_view_name": "HTMLView",
      "description": "",
      "description_tooltip": null,
      "layout": "IPY_MODEL_dd56a0b0e8db4f4a9a6d3e8c2042c1af",
      "placeholder": "​",
      "style": "IPY_MODEL_2a4718e8f19443ae97496670e0a6f3b1",
      "value": "Map: 100%"
     }
    },
    "c83c30568e924e66aa68e08cfa7ade2b": {
     "model_module": "@jupyter-widgets/controls",
     "model_name": "FloatProgressModel",
     "model_module_version": "1.5.0",
     "state": {
      "_dom_classes": [],
      "_model_module": "@jupyter-widgets/controls",
      "_model_module_version": "1.5.0",
      "_model_name": "FloatProgressModel",
      "_view_count": null,
      "_view_module": "@jupyter-widgets/controls",
      "_view_module_version": "1.5.0",
      "_view_name": "ProgressView",
      "bar_style": "success",
      "description": "",
      "description_tooltip": null,
      "layout": "IPY_MODEL_dfd9af72a0044a70879694c7207470b9",
      "max": 3263,
      "min": 0,
      "orientation": "horizontal",
      "style": "IPY_MODEL_c4e66d3681b04f369c0bc342e5891f19",
      "value": 3263
     }
    },
    "7b31e6a169b041e4b0f72f9c9121fd1f": {
     "model_module": "@jupyter-widgets/controls",
     "model_name": "HTMLModel",
     "model_module_version": "1.5.0",
     "state": {
      "_dom_classes": [],
      "_model_module": "@jupyter-widgets/controls",
      "_model_module_version": "1.5.0",
      "_model_name": "HTMLModel",
      "_view_count": null,
      "_view_module": "@jupyter-widgets/controls",
      "_view_module_version": "1.5.0",
      "_view_name": "HTMLView",
      "description": "",
      "description_tooltip": null,
      "layout": "IPY_MODEL_f9e47b97b3d84852964ca61683ad5489",
      "placeholder": "​",
      "style": "IPY_MODEL_49c2a3bc2f26412a84858b2e38a5de49",
      "value": " 3263/3263 [00:01&lt;00:00, 2696.81 examples/s]"
     }
    },
    "ff759e32aadf43f19897c8688b060237": {
     "model_module": "@jupyter-widgets/base",
     "model_name": "LayoutModel",
     "model_module_version": "1.2.0",
     "state": {
      "_model_module": "@jupyter-widgets/base",
      "_model_module_version": "1.2.0",
      "_model_name": "LayoutModel",
      "_view_count": null,
      "_view_module": "@jupyter-widgets/base",
      "_view_module_version": "1.2.0",
      "_view_name": "LayoutView",
      "align_content": null,
      "align_items": null,
      "align_self": null,
      "border": null,
      "bottom": null,
      "display": null,
      "flex": null,
      "flex_flow": null,
      "grid_area": null,
      "grid_auto_columns": null,
      "grid_auto_flow": null,
      "grid_auto_rows": null,
      "grid_column": null,
      "grid_gap": null,
      "grid_row": null,
      "grid_template_areas": null,
      "grid_template_columns": null,
      "grid_template_rows": null,
      "height": null,
      "justify_content": null,
      "justify_items": null,
      "left": null,
      "margin": null,
      "max_height": null,
      "max_width": null,
      "min_height": null,
      "min_width": null,
      "object_fit": null,
      "object_position": null,
      "order": null,
      "overflow": null,
      "overflow_x": null,
      "overflow_y": null,
      "padding": null,
      "right": null,
      "top": null,
      "visibility": null,
      "width": null
     }
    },
    "dd56a0b0e8db4f4a9a6d3e8c2042c1af": {
     "model_module": "@jupyter-widgets/base",
     "model_name": "LayoutModel",
     "model_module_version": "1.2.0",
     "state": {
      "_model_module": "@jupyter-widgets/base",
      "_model_module_version": "1.2.0",
      "_model_name": "LayoutModel",
      "_view_count": null,
      "_view_module": "@jupyter-widgets/base",
      "_view_module_version": "1.2.0",
      "_view_name": "LayoutView",
      "align_content": null,
      "align_items": null,
      "align_self": null,
      "border": null,
      "bottom": null,
      "display": null,
      "flex": null,
      "flex_flow": null,
      "grid_area": null,
      "grid_auto_columns": null,
      "grid_auto_flow": null,
      "grid_auto_rows": null,
      "grid_column": null,
      "grid_gap": null,
      "grid_row": null,
      "grid_template_areas": null,
      "grid_template_columns": null,
      "grid_template_rows": null,
      "height": null,
      "justify_content": null,
      "justify_items": null,
      "left": null,
      "margin": null,
      "max_height": null,
      "max_width": null,
      "min_height": null,
      "min_width": null,
      "object_fit": null,
      "object_position": null,
      "order": null,
      "overflow": null,
      "overflow_x": null,
      "overflow_y": null,
      "padding": null,
      "right": null,
      "top": null,
      "visibility": null,
      "width": null
     }
    },
    "2a4718e8f19443ae97496670e0a6f3b1": {
     "model_module": "@jupyter-widgets/controls",
     "model_name": "DescriptionStyleModel",
     "model_module_version": "1.5.0",
     "state": {
      "_model_module": "@jupyter-widgets/controls",
      "_model_module_version": "1.5.0",
      "_model_name": "DescriptionStyleModel",
      "_view_count": null,
      "_view_module": "@jupyter-widgets/base",
      "_view_module_version": "1.2.0",
      "_view_name": "StyleView",
      "description_width": ""
     }
    },
    "dfd9af72a0044a70879694c7207470b9": {
     "model_module": "@jupyter-widgets/base",
     "model_name": "LayoutModel",
     "model_module_version": "1.2.0",
     "state": {
      "_model_module": "@jupyter-widgets/base",
      "_model_module_version": "1.2.0",
      "_model_name": "LayoutModel",
      "_view_count": null,
      "_view_module": "@jupyter-widgets/base",
      "_view_module_version": "1.2.0",
      "_view_name": "LayoutView",
      "align_content": null,
      "align_items": null,
      "align_self": null,
      "border": null,
      "bottom": null,
      "display": null,
      "flex": null,
      "flex_flow": null,
      "grid_area": null,
      "grid_auto_columns": null,
      "grid_auto_flow": null,
      "grid_auto_rows": null,
      "grid_column": null,
      "grid_gap": null,
      "grid_row": null,
      "grid_template_areas": null,
      "grid_template_columns": null,
      "grid_template_rows": null,
      "height": null,
      "justify_content": null,
      "justify_items": null,
      "left": null,
      "margin": null,
      "max_height": null,
      "max_width": null,
      "min_height": null,
      "min_width": null,
      "object_fit": null,
      "object_position": null,
      "order": null,
      "overflow": null,
      "overflow_x": null,
      "overflow_y": null,
      "padding": null,
      "right": null,
      "top": null,
      "visibility": null,
      "width": null
     }
    },
    "c4e66d3681b04f369c0bc342e5891f19": {
     "model_module": "@jupyter-widgets/controls",
     "model_name": "ProgressStyleModel",
     "model_module_version": "1.5.0",
     "state": {
      "_model_module": "@jupyter-widgets/controls",
      "_model_module_version": "1.5.0",
      "_model_name": "ProgressStyleModel",
      "_view_count": null,
      "_view_module": "@jupyter-widgets/base",
      "_view_module_version": "1.2.0",
      "_view_name": "StyleView",
      "bar_color": null,
      "description_width": ""
     }
    },
    "f9e47b97b3d84852964ca61683ad5489": {
     "model_module": "@jupyter-widgets/base",
     "model_name": "LayoutModel",
     "model_module_version": "1.2.0",
     "state": {
      "_model_module": "@jupyter-widgets/base",
      "_model_module_version": "1.2.0",
      "_model_name": "LayoutModel",
      "_view_count": null,
      "_view_module": "@jupyter-widgets/base",
      "_view_module_version": "1.2.0",
      "_view_name": "LayoutView",
      "align_content": null,
      "align_items": null,
      "align_self": null,
      "border": null,
      "bottom": null,
      "display": null,
      "flex": null,
      "flex_flow": null,
      "grid_area": null,
      "grid_auto_columns": null,
      "grid_auto_flow": null,
      "grid_auto_rows": null,
      "grid_column": null,
      "grid_gap": null,
      "grid_row": null,
      "grid_template_areas": null,
      "grid_template_columns": null,
      "grid_template_rows": null,
      "height": null,
      "justify_content": null,
      "justify_items": null,
      "left": null,
      "margin": null,
      "max_height": null,
      "max_width": null,
      "min_height": null,
      "min_width": null,
      "object_fit": null,
      "object_position": null,
      "order": null,
      "overflow": null,
      "overflow_x": null,
      "overflow_y": null,
      "padding": null,
      "right": null,
      "top": null,
      "visibility": null,
      "width": null
     }
    },
    "49c2a3bc2f26412a84858b2e38a5de49": {
     "model_module": "@jupyter-widgets/controls",
     "model_name": "DescriptionStyleModel",
     "model_module_version": "1.5.0",
     "state": {
      "_model_module": "@jupyter-widgets/controls",
      "_model_module_version": "1.5.0",
      "_model_name": "DescriptionStyleModel",
      "_view_count": null,
      "_view_module": "@jupyter-widgets/base",
      "_view_module_version": "1.2.0",
      "_view_name": "StyleView",
      "description_width": ""
     }
    }
   }
  },
  "accelerator": "GPU"
 },
 "cells": [
  {
   "cell_type": "code",
   "execution_count": 1,
   "metadata": {
    "id": "2tlFUPubyaNS",
    "ExecuteTime": {
     "end_time": "2024-06-17T05:40:59.279751Z",
     "start_time": "2024-06-17T05:40:55.842389Z"
    }
   },
   "outputs": [
    {
     "name": "stderr",
     "output_type": "stream",
     "text": [
      "2024-06-17 00:40:58.281777: I tensorflow/core/util/port.cc:113] oneDNN custom operations are on. You may see slightly different numerical results due to floating-point round-off errors from different computation orders. To turn them off, set the environment variable `TF_ENABLE_ONEDNN_OPTS=0`.\n",
      "2024-06-17 00:40:58.310221: I tensorflow/core/platform/cpu_feature_guard.cc:210] This TensorFlow binary is optimized to use available CPU instructions in performance-critical operations.\n",
      "To enable the following instructions: AVX2 AVX_VNNI FMA, in other operations, rebuild TensorFlow with the appropriate compiler flags.\n",
      "2024-06-17 00:40:58.810007: W tensorflow/compiler/tf2tensorrt/utils/py_utils.cc:38] TF-TRT Warning: Could not find TensorRT\n"
     ]
    }
   ],
   "source": [
    "import re\n",
    "import numpy as np\n",
    "import pandas as pd\n",
    "import torch\n",
    "from torch.optim import AdamW\n",
    "from torch.optim.lr_scheduler import OneCycleLR\n",
    "from transformers import  DistilBertForSequenceClassification, AutoTokenizer\n",
    "from transformers import Trainer, TrainingArguments,ProgressCallback,TrainerCallback\n",
    "from sklearn.metrics import accuracy_score,f1_score, roc_auc_score\n",
    "from datasets import Dataset\n",
    "\n",
    "from pathlib import Path"
   ]
  },
  {
   "cell_type": "code",
   "source": [
    "#Configuration\n",
    "\n",
    "BATCH_SIZE=128\n",
    "MODEL_NAME='distilbert-base-uncased'\n",
    "NUM_EPOCHS=15\n",
    "MAX_LR=5e-4\n",
    "WEIGHT_DECAY=1e-6"
   ],
   "metadata": {
    "id": "GC6Q_K-40-io",
    "ExecuteTime": {
     "end_time": "2024-06-17T05:40:59.283838Z",
     "start_time": "2024-06-17T05:40:59.281183Z"
    }
   },
   "execution_count": 2,
   "outputs": []
  },
  {
   "cell_type": "code",
   "source": [
    "train=pd.read_csv('train.csv')\n",
    "train.head(5)"
   ],
   "metadata": {
    "colab": {
     "base_uri": "https://localhost:8080/",
     "height": 206
    },
    "id": "BU7pr4X51-AL",
    "outputId": "daeb313a-2f13-491d-c536-423db9283777",
    "ExecuteTime": {
     "end_time": "2024-06-17T05:40:59.315234Z",
     "start_time": "2024-06-17T05:40:59.285265Z"
    }
   },
   "execution_count": 3,
   "outputs": [
    {
     "data": {
      "text/plain": "   id keyword location                                               text  \\\n0   1     NaN      NaN  Our Deeds are the Reason of this #earthquake M...   \n1   4     NaN      NaN             Forest fire near La Ronge Sask. Canada   \n2   5     NaN      NaN  All residents asked to 'shelter in place' are ...   \n3   6     NaN      NaN  13,000 people receive #wildfires evacuation or...   \n4   7     NaN      NaN  Just got sent this photo from Ruby #Alaska as ...   \n\n   target  \n0       1  \n1       1  \n2       1  \n3       1  \n4       1  ",
      "text/html": "<div>\n<style scoped>\n    .dataframe tbody tr th:only-of-type {\n        vertical-align: middle;\n    }\n\n    .dataframe tbody tr th {\n        vertical-align: top;\n    }\n\n    .dataframe thead th {\n        text-align: right;\n    }\n</style>\n<table border=\"1\" class=\"dataframe\">\n  <thead>\n    <tr style=\"text-align: right;\">\n      <th></th>\n      <th>id</th>\n      <th>keyword</th>\n      <th>location</th>\n      <th>text</th>\n      <th>target</th>\n    </tr>\n  </thead>\n  <tbody>\n    <tr>\n      <th>0</th>\n      <td>1</td>\n      <td>NaN</td>\n      <td>NaN</td>\n      <td>Our Deeds are the Reason of this #earthquake M...</td>\n      <td>1</td>\n    </tr>\n    <tr>\n      <th>1</th>\n      <td>4</td>\n      <td>NaN</td>\n      <td>NaN</td>\n      <td>Forest fire near La Ronge Sask. Canada</td>\n      <td>1</td>\n    </tr>\n    <tr>\n      <th>2</th>\n      <td>5</td>\n      <td>NaN</td>\n      <td>NaN</td>\n      <td>All residents asked to 'shelter in place' are ...</td>\n      <td>1</td>\n    </tr>\n    <tr>\n      <th>3</th>\n      <td>6</td>\n      <td>NaN</td>\n      <td>NaN</td>\n      <td>13,000 people receive #wildfires evacuation or...</td>\n      <td>1</td>\n    </tr>\n    <tr>\n      <th>4</th>\n      <td>7</td>\n      <td>NaN</td>\n      <td>NaN</td>\n      <td>Just got sent this photo from Ruby #Alaska as ...</td>\n      <td>1</td>\n    </tr>\n  </tbody>\n</table>\n</div>"
     },
     "execution_count": 3,
     "metadata": {},
     "output_type": "execute_result"
    }
   ]
  },
  {
   "cell_type": "code",
   "source": [
    "train.isna().sum()"
   ],
   "metadata": {
    "colab": {
     "base_uri": "https://localhost:8080/"
    },
    "id": "NeXXzuVw2HBw",
    "outputId": "895ec604-93cc-46ee-af54-53a7a72044b3",
    "ExecuteTime": {
     "end_time": "2024-06-17T05:40:59.322009Z",
     "start_time": "2024-06-17T05:40:59.316447Z"
    }
   },
   "execution_count": 4,
   "outputs": [
    {
     "data": {
      "text/plain": "id             0\nkeyword       61\nlocation    2533\ntext           0\ntarget         0\ndtype: int64"
     },
     "execution_count": 4,
     "metadata": {},
     "output_type": "execute_result"
    }
   ]
  },
  {
   "cell_type": "code",
   "source": [
    "def remove_emoji(string):\n",
    "    emoji_pattern = re.compile(\"[\"\n",
    "                           u\"\\U0001F600-\\U0001F64F\"  # emoticons\n",
    "                           u\"\\U0001F300-\\U0001F5FF\"  # symbols & pictographs\n",
    "                           u\"\\U0001F680-\\U0001F6FF\"  # transport & map symbols\n",
    "                           u\"\\U0001F1E0-\\U0001F1FF\"  # flags (iOS)\n",
    "                           u\"\\U00002702-\\U000027B0\"\n",
    "                           u\"\\U000024C2-\\U0001F251\"\n",
    "                           \"]+\", flags=re.UNICODE)\n",
    "    return emoji_pattern.sub(r'', string)\n",
    "\n",
    "def preprocess_tweet(tweet):\n",
    "  tweet = tweet.lower()\n",
    "  tweet=re.sub(r\"http\\S+\", \"\", tweet)\n",
    "  tweet = re.sub(r\"www\\S+\",\"\", tweet)\n",
    "  tweet = re.sub(r\"[0-9]+(,[0-9])*(\\.[0-9]+)*\",\"\", tweet)\n",
    "  tweet = remove_emoji(tweet)\n",
    "\n",
    "  return tweet\n",
    "\n",
    "train['text']=train['text'].apply(preprocess_tweet)\n"
   ],
   "metadata": {
    "id": "x__rFDSA2MAR",
    "ExecuteTime": {
     "end_time": "2024-06-17T05:40:59.364433Z",
     "start_time": "2024-06-17T05:40:59.324045Z"
    }
   },
   "execution_count": 5,
   "outputs": []
  },
  {
   "cell_type": "code",
   "source": [
    "train_dataset=Dataset.from_pandas(train[['text','target']]).class_encode_column('target')\n",
    "\n",
    "train_dataset=train_dataset.train_test_split(test_size=0.2,seed=1)\n",
    "\n",
    "train_dataset"
   ],
   "metadata": {
    "colab": {
     "base_uri": "https://localhost:8080/",
     "height": 255,
     "referenced_widgets": [
      "8c6aa4551eed44feb33c90241dd72a9c",
      "733997789b3448e78360da4f0e11e2c0",
      "7d2ebb86647242eab95ac1c32a470140",
      "ad5d57cd9988415d8f26e66d7e4c3804",
      "01cfbe2cdb1140b58fadbf706778db37",
      "065f3f07bc3d4e3da14a166a151c2556",
      "9c423e0a9350412d990c87e9fe3e23e7",
      "73b6469752a642afb6a62f833b7bffc7",
      "ba15a047b63b4b2c8354ef29b72db97d",
      "f5bbd663d14247258067236ece07aa77",
      "771c5599d3f141e29b96f77e37de0e30",
      "3ace9c3f6b0e43f7a019308bc55976de",
      "7547f8ce9d9e4c968f8c3a5bce8ec325",
      "ef7f2da7ac7b43dc9028cb4ad2089383",
      "4957dd7597cc42c08d71f879a1d85e66",
      "a41dad387df54b03b7bad6398f7f14a5",
      "6b766776225e4c3dad016eb7070c47e2",
      "ae97d3675dc8426b90d6ab66e3164477",
      "2c2f6c7246484ec2a03417e8b162f885",
      "44d19be22d9848adb68da0ac57e816a5",
      "65350c04b3384edc899409ee133b20be",
      "3ef644bd08d5459fb877287ffc6a578d"
     ]
    },
    "id": "hTypy53r4mWL",
    "outputId": "5f77652e-f9c4-4396-9cae-82deda7d39a6",
    "ExecuteTime": {
     "end_time": "2024-06-17T05:40:59.428979Z",
     "start_time": "2024-06-17T05:40:59.365621Z"
    }
   },
   "execution_count": 6,
   "outputs": [
    {
     "data": {
      "text/plain": "Stringifying the column:   0%|          | 0/7613 [00:00<?, ? examples/s]",
      "application/vnd.jupyter.widget-view+json": {
       "version_major": 2,
       "version_minor": 0,
       "model_id": "7809950f2b9a49c8973fb623c0898490"
      }
     },
     "metadata": {},
     "output_type": "display_data"
    },
    {
     "data": {
      "text/plain": "Casting to class labels:   0%|          | 0/7613 [00:00<?, ? examples/s]",
      "application/vnd.jupyter.widget-view+json": {
       "version_major": 2,
       "version_minor": 0,
       "model_id": "f47c74e643134804be73623964d10f28"
      }
     },
     "metadata": {},
     "output_type": "display_data"
    },
    {
     "data": {
      "text/plain": "DatasetDict({\n    train: Dataset({\n        features: ['text', 'target'],\n        num_rows: 6090\n    })\n    test: Dataset({\n        features: ['text', 'target'],\n        num_rows: 1523\n    })\n})"
     },
     "execution_count": 6,
     "metadata": {},
     "output_type": "execute_result"
    }
   ]
  },
  {
   "cell_type": "code",
   "source": [
    "tokenizer=AutoTokenizer.from_pretrained(MODEL_NAME)\n",
    "\n",
    "def tokenize(batch):\n",
    "  return tokenizer(batch['text'],padding=True,truncation=True,max_length=512)"
   ],
   "metadata": {
    "colab": {
     "base_uri": "https://localhost:8080/"
    },
    "id": "uzR70xA7436K",
    "outputId": "0e7bc213-a249-4e76-b3ed-2951419e05eb",
    "ExecuteTime": {
     "end_time": "2024-06-17T05:40:59.627517Z",
     "start_time": "2024-06-17T05:40:59.430136Z"
    }
   },
   "execution_count": 7,
   "outputs": []
  },
  {
   "cell_type": "code",
   "source": [
    "tokenized_dataset=train_dataset.map(tokenize,batched=True,batch_size=BATCH_SIZE)"
   ],
   "metadata": {
    "colab": {
     "base_uri": "https://localhost:8080/",
     "height": 81,
     "referenced_widgets": [
      "09af69b58623414a8eb1d1b8e0b006bf",
      "a3027a1472274a4ea80f2d559efbee99",
      "902c9680aac54930b8774723ccfd2757",
      "6fb9b0e155ab4467b46c90f9dc54540e",
      "9457aebd37fc46ab99a2a723ff53fc9a",
      "2a04764911c746ce98a18eb0c910e1df",
      "790459140bb24ce19ed5f5e2bab0902b",
      "fa5080052efc4e9d90c53d7083f896a4",
      "4ad2e05971224e5d8df74e6ec1c2529a",
      "4eb951d68163458dab2fbbf85dfe4a90",
      "18ee5433a8b3448fa3748fbbdab43fa7",
      "5c13277771aa4ee38d9e078e4903a724",
      "673fc1944eec43f09b9aad65513efabd",
      "807fddffcb0446e9814588faf55f9b0f",
      "79c5394347b54bda8e6f118526e61961",
      "8e2c08b48d2c4ff682c460b82a9ac0ed",
      "3c5993ef078c4b4e82a910b9c54393b2",
      "94c9ecbb7d5f4d63a222493399590c6b",
      "b48eb38b88c54fee82d37423b7260edb",
      "8ec01d5cb05e4dde997a860bbd694385",
      "ab6e3068d8cf4e20acc9e69455787ada",
      "09b6c963a09c453181a58be373fd6b6c"
     ]
    },
    "id": "7q4uCB2i5EHp",
    "outputId": "86dced2f-3d71-4ba2-84ff-aaf47fe77e28",
    "ExecuteTime": {
     "end_time": "2024-06-17T05:41:00.094774Z",
     "start_time": "2024-06-17T05:40:59.628773Z"
    }
   },
   "execution_count": 8,
   "outputs": [
    {
     "data": {
      "text/plain": "Map:   0%|          | 0/6090 [00:00<?, ? examples/s]",
      "application/vnd.jupyter.widget-view+json": {
       "version_major": 2,
       "version_minor": 0,
       "model_id": "cc3261f0d4204cf1b6107b7be99c6914"
      }
     },
     "metadata": {},
     "output_type": "display_data"
    },
    {
     "data": {
      "text/plain": "Map:   0%|          | 0/1523 [00:00<?, ? examples/s]",
      "application/vnd.jupyter.widget-view+json": {
       "version_major": 2,
       "version_minor": 0,
       "model_id": "d84befa2f7fe49f08ed7bf8a60f14087"
      }
     },
     "metadata": {},
     "output_type": "display_data"
    }
   ]
  },
  {
   "cell_type": "code",
   "source": [
    "tokenized_dataset=tokenized_dataset.rename_column('target','labels')\n",
    "tokenized_dataset"
   ],
   "metadata": {
    "colab": {
     "base_uri": "https://localhost:8080/"
    },
    "id": "UeVpH_DW6zGp",
    "outputId": "87b5c471-e84e-47cc-b2c8-acf6a1526472",
    "ExecuteTime": {
     "end_time": "2024-06-17T05:41:00.102264Z",
     "start_time": "2024-06-17T05:41:00.096058Z"
    }
   },
   "execution_count": 9,
   "outputs": [
    {
     "data": {
      "text/plain": "DatasetDict({\n    train: Dataset({\n        features: ['text', 'labels', 'input_ids', 'attention_mask'],\n        num_rows: 6090\n    })\n    test: Dataset({\n        features: ['text', 'labels', 'input_ids', 'attention_mask'],\n        num_rows: 1523\n    })\n})"
     },
     "execution_count": 9,
     "metadata": {},
     "output_type": "execute_result"
    }
   ]
  },
  {
   "cell_type": "code",
   "source": [
    "class CustomDistilBertForSequenceClassification(DistilBertForSequenceClassification):\n",
    "    def __init__(self, config):\n",
    "        super().__init__(config)\n",
    "        self.pre_classifier=None\n",
    "        # classification block - 2 ff layers followed by an output layer\n",
    "        self.classifier = torch.nn.Sequential(\n",
    "            torch.nn.Linear(config.dim, 128),\n",
    "            torch.nn.BatchNorm1d(128),\n",
    "            torch.nn.ReLU(),\n",
    "            torch.nn.Dropout(0.1),\n",
    "            torch.nn.Linear(128, 128),\n",
    "            torch.nn.BatchNorm1d(128),\n",
    "            torch.nn.ReLU(),\n",
    "            torch.nn.Dropout(0.1),\n",
    "            torch.nn.Linear(128, config.num_labels)\n",
    "        )\n",
    "\n",
    "    def forward(\n",
    "        self, input_ids=None, attention_mask=None, head_mask=None, inputs_embeds=None,\n",
    "        labels=None, output_attentions=None, output_hidden_states=None, return_dict=None\n",
    "    ):\n",
    "        outputs = self.distilbert(\n",
    "            input_ids=input_ids, attention_mask=attention_mask, head_mask=head_mask,\n",
    "            inputs_embeds=inputs_embeds, output_attentions=output_attentions,\n",
    "            output_hidden_states=output_hidden_states,\n",
    "            return_dict=return_dict\n",
    "        )\n",
    "        hidden_state = outputs[0]  # (bs, seq_len, dim)\n",
    "        pooled_output = hidden_state[:, 0]  # (bs, dim)\n",
    "        logits = self.classifier(pooled_output) # (bs, num_labels)\n",
    "\n",
    "        loss = None\n",
    "        if labels is not None:\n",
    "            if self.config.problem_type is None:\n",
    "                if self.num_labels == 1:\n",
    "                    self.config.problem_type = \"regression\"\n",
    "                elif self.num_labels > 1 and (labels.dtype == torch.long or labels.dtype == torch.int):\n",
    "                    self.config.problem_type = \"single_label_classification\"\n",
    "                else:\n",
    "                    self.config.problem_type = \"multi_label_classification\"\n",
    "\n",
    "            if self.config.problem_type == \"regression\":\n",
    "                loss_fct = torch.nn.MSELoss()\n",
    "                loss = loss_fct(logits.view(-1), labels.view(-1))\n",
    "            elif self.config.problem_type == \"single_label_classification\":\n",
    "                loss_fct = torch.nn.CrossEntropyLoss()\n",
    "                loss = loss_fct(logits.view(-1, self.num_labels), labels.view(-1))\n",
    "            elif self.config.problem_type == \"multi_label_classification\":\n",
    "                loss_fct = torch.nn.BCEWithLogitsLoss()\n",
    "                loss = loss_fct(logits, labels)\n",
    "\n",
    "        if not return_dict:\n",
    "            output = (logits,) + outputs[1:]\n",
    "            return ((loss,) + output) if loss is not None else output\n",
    "\n",
    "        return torch.nn.utils.rnn.PackedSequence(\n",
    "            loss=loss, logits=logits, hidden_states=outputs.hidden_states, attentions=outputs.attentions\n",
    "        )\n",
    "\n",
    "    def freeze_base_model(self):\n",
    "        for param in self.distilbert.parameters():\n",
    "            param.requires_grad = False\n",
    "\n",
    "    def unfreeze_last_layers(self, num_layers):\n",
    "        for layer in self.distilbert.transformer.layer[-num_layers:]:\n",
    "            for param in layer.parameters():\n",
    "                param.requires_grad = True"
   ],
   "metadata": {
    "id": "2bF5GT3g68Iq",
    "ExecuteTime": {
     "end_time": "2024-06-17T05:41:00.123074Z",
     "start_time": "2024-06-17T05:41:00.103530Z"
    }
   },
   "execution_count": 10,
   "outputs": []
  },
  {
   "cell_type": "code",
   "source": [
    "model=CustomDistilBertForSequenceClassification.from_pretrained(MODEL_NAME)\n",
    "model.freeze_base_model()\n",
    "print(model)"
   ],
   "metadata": {
    "colab": {
     "base_uri": "https://localhost:8080/"
    },
    "id": "uuc_qo6d9C4i",
    "outputId": "db8de52c-47f1-46c9-955b-f459f53023f4",
    "ExecuteTime": {
     "end_time": "2024-06-17T05:41:00.372118Z",
     "start_time": "2024-06-17T05:41:00.124413Z"
    }
   },
   "execution_count": 11,
   "outputs": [
    {
     "name": "stderr",
     "output_type": "stream",
     "text": [
      "Some weights of CustomDistilBertForSequenceClassification were not initialized from the model checkpoint at distilbert-base-uncased and are newly initialized: ['classifier.0.bias', 'classifier.0.weight', 'classifier.1.bias', 'classifier.1.num_batches_tracked', 'classifier.1.running_mean', 'classifier.1.running_var', 'classifier.1.weight', 'classifier.4.bias', 'classifier.4.weight', 'classifier.5.bias', 'classifier.5.num_batches_tracked', 'classifier.5.running_mean', 'classifier.5.running_var', 'classifier.5.weight', 'classifier.8.bias', 'classifier.8.weight']\n",
      "You should probably TRAIN this model on a down-stream task to be able to use it for predictions and inference.\n"
     ]
    },
    {
     "name": "stdout",
     "output_type": "stream",
     "text": [
      "CustomDistilBertForSequenceClassification(\n",
      "  (distilbert): DistilBertModel(\n",
      "    (embeddings): Embeddings(\n",
      "      (word_embeddings): Embedding(30522, 768, padding_idx=0)\n",
      "      (position_embeddings): Embedding(512, 768)\n",
      "      (LayerNorm): LayerNorm((768,), eps=1e-12, elementwise_affine=True)\n",
      "      (dropout): Dropout(p=0.1, inplace=False)\n",
      "    )\n",
      "    (transformer): Transformer(\n",
      "      (layer): ModuleList(\n",
      "        (0-5): 6 x TransformerBlock(\n",
      "          (attention): MultiHeadSelfAttention(\n",
      "            (dropout): Dropout(p=0.1, inplace=False)\n",
      "            (q_lin): Linear(in_features=768, out_features=768, bias=True)\n",
      "            (k_lin): Linear(in_features=768, out_features=768, bias=True)\n",
      "            (v_lin): Linear(in_features=768, out_features=768, bias=True)\n",
      "            (out_lin): Linear(in_features=768, out_features=768, bias=True)\n",
      "          )\n",
      "          (sa_layer_norm): LayerNorm((768,), eps=1e-12, elementwise_affine=True)\n",
      "          (ffn): FFN(\n",
      "            (dropout): Dropout(p=0.1, inplace=False)\n",
      "            (lin1): Linear(in_features=768, out_features=3072, bias=True)\n",
      "            (lin2): Linear(in_features=3072, out_features=768, bias=True)\n",
      "            (activation): GELUActivation()\n",
      "          )\n",
      "          (output_layer_norm): LayerNorm((768,), eps=1e-12, elementwise_affine=True)\n",
      "        )\n",
      "      )\n",
      "    )\n",
      "  )\n",
      "  (pre_classifier): None\n",
      "  (classifier): Sequential(\n",
      "    (0): Linear(in_features=768, out_features=128, bias=True)\n",
      "    (1): BatchNorm1d(128, eps=1e-05, momentum=0.1, affine=True, track_running_stats=True)\n",
      "    (2): ReLU()\n",
      "    (3): Dropout(p=0.1, inplace=False)\n",
      "    (4): Linear(in_features=128, out_features=128, bias=True)\n",
      "    (5): BatchNorm1d(128, eps=1e-05, momentum=0.1, affine=True, track_running_stats=True)\n",
      "    (6): ReLU()\n",
      "    (7): Dropout(p=0.1, inplace=False)\n",
      "    (8): Linear(in_features=128, out_features=2, bias=True)\n",
      "  )\n",
      "  (dropout): Dropout(p=0.2, inplace=False)\n",
      ")\n"
     ]
    }
   ]
  },
  {
   "cell_type": "code",
   "source": [
    "class GradualUnfreezingCallback(TrainerCallback):\n",
    "  def __init__(self, model, intervals):\n",
    "    self.model = model\n",
    "    self.intervals = intervals\n",
    "    self.current_interval = 0\n",
    "\n",
    "  def on_batch_end(self, args, state, control, **kwargs):\n",
    "    if state.epoch in self.intervals:\n",
    "      num_layers=self.intervals[state.epoch]\n",
    "      self.model.unfreeze_last_layers(num_layers)\n",
    "      self.current_interval += 1\n",
    "      print(f\"Unfreezing last {num_layers} layers for epoch {int(state.epoch)}\")"
   ],
   "metadata": {
    "id": "A66jzjY59L7n",
    "ExecuteTime": {
     "end_time": "2024-06-17T05:41:00.377499Z",
     "start_time": "2024-06-17T05:41:00.373544Z"
    }
   },
   "execution_count": 12,
   "outputs": []
  },
  {
   "cell_type": "code",
   "source": [
    "!pip install transformers[torch]"
   ],
   "metadata": {
    "colab": {
     "base_uri": "https://localhost:8080/"
    },
    "id": "UEIkGixBgCq6",
    "outputId": "bd00c0a7-6164-4619-915c-5b84330b0618",
    "ExecuteTime": {
     "end_time": "2024-06-17T05:41:01.894963Z",
     "start_time": "2024-06-17T05:41:00.378986Z"
    }
   },
   "execution_count": 13,
   "outputs": [
    {
     "name": "stdout",
     "output_type": "stream",
     "text": [
      "/bin/bash: warning: setlocale: LC_ALL: cannot change locale (en_US.UTF-8)\r\n"
     ]
    },
    {
     "name": "stderr",
     "output_type": "stream",
     "text": [
      "huggingface/tokenizers: The current process just got forked, after parallelism has already been used. Disabling parallelism to avoid deadlocks...\n",
      "To disable this warning, you can either:\n",
      "\t- Avoid using `tokenizers` before the fork if possible\n",
      "\t- Explicitly set the environment variable TOKENIZERS_PARALLELISM=(true | false)\n"
     ]
    },
    {
     "name": "stdout",
     "output_type": "stream",
     "text": [
      "Defaulting to user installation because normal site-packages is not writeable\r\n",
      "Requirement already satisfied: transformers[torch] in /home/cangzhishang/.local/lib/python3.10/site-packages (4.41.2)\r\n",
      "Requirement already satisfied: pyyaml>=5.1 in /usr/lib/python3/dist-packages (from transformers[torch]) (5.4.1)\r\n",
      "Requirement already satisfied: safetensors>=0.4.1 in /home/cangzhishang/.local/lib/python3.10/site-packages (from transformers[torch]) (0.4.3)\r\n",
      "Requirement already satisfied: filelock in /home/cangzhishang/.local/lib/python3.10/site-packages (from transformers[torch]) (3.12.2)\r\n",
      "Requirement already satisfied: packaging>=20.0 in /home/cangzhishang/.local/lib/python3.10/site-packages (from transformers[torch]) (24.1)\r\n",
      "Requirement already satisfied: huggingface-hub<1.0,>=0.23.0 in /home/cangzhishang/.local/lib/python3.10/site-packages (from transformers[torch]) (0.23.4)\r\n",
      "Requirement already satisfied: numpy>=1.17 in /home/cangzhishang/.local/lib/python3.10/site-packages (from transformers[torch]) (1.26.4)\r\n",
      "Requirement already satisfied: requests in /home/cangzhishang/.local/lib/python3.10/site-packages (from transformers[torch]) (2.32.3)\r\n",
      "Requirement already satisfied: regex!=2019.12.17 in /home/cangzhishang/.local/lib/python3.10/site-packages (from transformers[torch]) (2024.5.15)\r\n",
      "Requirement already satisfied: tokenizers<0.20,>=0.19 in /home/cangzhishang/.local/lib/python3.10/site-packages (from transformers[torch]) (0.19.1)\r\n",
      "Requirement already satisfied: tqdm>=4.27 in /home/cangzhishang/.local/lib/python3.10/site-packages (from transformers[torch]) (4.66.4)\r\n",
      "Requirement already satisfied: torch in /home/cangzhishang/.local/lib/python3.10/site-packages (from transformers[torch]) (2.3.1)\r\n",
      "Requirement already satisfied: accelerate>=0.21.0 in /home/cangzhishang/.local/lib/python3.10/site-packages (from transformers[torch]) (0.31.0)\r\n",
      "Requirement already satisfied: psutil in /home/cangzhishang/.local/lib/python3.10/site-packages (from accelerate>=0.21.0->transformers[torch]) (5.9.8)\r\n",
      "Requirement already satisfied: fsspec>=2023.5.0 in /home/cangzhishang/.local/lib/python3.10/site-packages (from huggingface-hub<1.0,>=0.23.0->transformers[torch]) (2024.6.0)\r\n",
      "Requirement already satisfied: typing-extensions>=3.7.4.3 in /home/cangzhishang/.local/lib/python3.10/site-packages (from huggingface-hub<1.0,>=0.23.0->transformers[torch]) (4.12.2)\r\n",
      "Requirement already satisfied: nvidia-cusolver-cu12==11.4.5.107 in /home/cangzhishang/.local/lib/python3.10/site-packages (from torch->transformers[torch]) (11.4.5.107)\r\n",
      "Requirement already satisfied: networkx in /home/cangzhishang/.local/lib/python3.10/site-packages (from torch->transformers[torch]) (3.3)\r\n",
      "Requirement already satisfied: triton==2.3.1 in /home/cangzhishang/.local/lib/python3.10/site-packages (from torch->transformers[torch]) (2.3.1)\r\n",
      "Requirement already satisfied: nvidia-cuda-runtime-cu12==12.1.105 in /home/cangzhishang/.local/lib/python3.10/site-packages (from torch->transformers[torch]) (12.1.105)\r\n",
      "Requirement already satisfied: nvidia-cublas-cu12==12.1.3.1 in /home/cangzhishang/.local/lib/python3.10/site-packages (from torch->transformers[torch]) (12.1.3.1)\r\n",
      "Requirement already satisfied: jinja2 in /home/cangzhishang/.local/lib/python3.10/site-packages (from torch->transformers[torch]) (3.1.4)\r\n",
      "Requirement already satisfied: nvidia-nvtx-cu12==12.1.105 in /home/cangzhishang/.local/lib/python3.10/site-packages (from torch->transformers[torch]) (12.1.105)\r\n",
      "Requirement already satisfied: nvidia-cudnn-cu12==8.9.2.26 in /home/cangzhishang/.local/lib/python3.10/site-packages (from torch->transformers[torch]) (8.9.2.26)\r\n",
      "Requirement already satisfied: nvidia-curand-cu12==10.3.2.106 in /home/cangzhishang/.local/lib/python3.10/site-packages (from torch->transformers[torch]) (10.3.2.106)\r\n",
      "Requirement already satisfied: nvidia-nccl-cu12==2.20.5 in /home/cangzhishang/.local/lib/python3.10/site-packages (from torch->transformers[torch]) (2.20.5)\r\n",
      "Requirement already satisfied: nvidia-cufft-cu12==11.0.2.54 in /home/cangzhishang/.local/lib/python3.10/site-packages (from torch->transformers[torch]) (11.0.2.54)\r\n",
      "Requirement already satisfied: nvidia-cuda-nvrtc-cu12==12.1.105 in /home/cangzhishang/.local/lib/python3.10/site-packages (from torch->transformers[torch]) (12.1.105)\r\n",
      "Requirement already satisfied: sympy in /home/cangzhishang/.local/lib/python3.10/site-packages (from torch->transformers[torch]) (1.12.1)\r\n",
      "Requirement already satisfied: nvidia-cuda-cupti-cu12==12.1.105 in /home/cangzhishang/.local/lib/python3.10/site-packages (from torch->transformers[torch]) (12.1.105)\r\n",
      "Requirement already satisfied: nvidia-cusparse-cu12==12.1.0.106 in /home/cangzhishang/.local/lib/python3.10/site-packages (from torch->transformers[torch]) (12.1.0.106)\r\n",
      "Requirement already satisfied: nvidia-nvjitlink-cu12 in /home/cangzhishang/.local/lib/python3.10/site-packages (from nvidia-cusolver-cu12==11.4.5.107->torch->transformers[torch]) (12.5.40)\r\n",
      "Requirement already satisfied: idna<4,>=2.5 in /home/cangzhishang/.local/lib/python3.10/site-packages (from requests->transformers[torch]) (3.7)\r\n",
      "Requirement already satisfied: certifi>=2017.4.17 in /home/cangzhishang/.local/lib/python3.10/site-packages (from requests->transformers[torch]) (2023.7.22)\r\n",
      "Requirement already satisfied: urllib3<3,>=1.21.1 in /home/cangzhishang/.local/lib/python3.10/site-packages (from requests->transformers[torch]) (2.2.1)\r\n",
      "Requirement already satisfied: charset-normalizer<4,>=2 in /home/cangzhishang/.local/lib/python3.10/site-packages (from requests->transformers[torch]) (3.3.2)\r\n",
      "Requirement already satisfied: MarkupSafe>=2.0 in /home/cangzhishang/.local/lib/python3.10/site-packages (from jinja2->torch->transformers[torch]) (2.1.5)\r\n",
      "Requirement already satisfied: mpmath<1.4.0,>=1.1.0 in /home/cangzhishang/.local/lib/python3.10/site-packages (from sympy->torch->transformers[torch]) (1.3.0)\r\n"
     ]
    }
   ]
  },
  {
   "cell_type": "code",
   "source": [
    "def compute_metrics(pred):\n",
    "    labels = pred.label_ids\n",
    "    logits = pred.predictions\n",
    "    preds = logits.argmax(-1) # might not be the best threshold\n",
    "\n",
    "    accuracy = accuracy_score(labels, preds)\n",
    "    f1 = f1_score(labels, preds)\n",
    "    auc = roc_auc_score(labels, logits[:, -1])\n",
    "\n",
    "    return {\"accuracy\": accuracy, \"f1\": f1, \"auc\": auc}\n",
    "\n",
    "# Define the training arguments\n",
    "training_args = TrainingArguments(\n",
    "    output_dir='./results',\n",
    "    num_train_epochs=NUM_EPOCHS,\n",
    "    per_device_train_batch_size=BATCH_SIZE,\n",
    "    per_device_eval_batch_size=BATCH_SIZE,\n",
    "    report_to=\"none\", # disable all integrations,\n",
    "    evaluation_strategy='epoch',\n",
    "    save_strategy='epoch',\n",
    "    logging_strategy=\"epoch\", # to log training loss\n",
    "    load_best_model_at_end=True, # selects the best performing model\n",
    "    metric_for_best_model='f1',\n",
    "    save_total_limit=1 # saves only the best model\n",
    ")\n"
   ],
   "metadata": {
    "colab": {
     "base_uri": "https://localhost:8080/"
    },
    "id": "_2-IZtC5Djsp",
    "outputId": "4b48f57c-8166-4ffd-c5d0-32e464dfa7fd",
    "ExecuteTime": {
     "end_time": "2024-06-17T05:41:02.197093Z",
     "start_time": "2024-06-17T05:41:01.897608Z"
    }
   },
   "execution_count": 14,
   "outputs": [
    {
     "name": "stderr",
     "output_type": "stream",
     "text": [
      "/home/cangzhishang/.local/lib/python3.10/site-packages/transformers/training_args.py:1474: FutureWarning: `evaluation_strategy` is deprecated and will be removed in version 4.46 of 🤗 Transformers. Use `eval_strategy` instead\n",
      "  warnings.warn(\n"
     ]
    }
   ]
  },
  {
   "cell_type": "code",
   "source": [
    "optimizer = AdamW(model.parameters(), weight_decay= WEIGHT_DECAY)\n",
    "lr_scheduler = OneCycleLR(\n",
    "    optimizer, max_lr = MAX_LR,\n",
    "    epochs = NUM_EPOCHS,\n",
    "    steps_per_epoch=int(np.ceil(len(tokenized_dataset['train']) / BATCH_SIZE)),\n",
    "    anneal_strategy='cos',\n",
    "    pct_start=0.3\n",
    ")\n",
    "\n",
    "# Define the intervals for unfreezing layers\n",
    "unfreeze_intervals = {5: 2, 9: 4, 12: 6}\n",
    "unfreezing_callback = GradualUnfreezingCallback(model, unfreeze_intervals)\n",
    "\n",
    "# Create the Trainer\n",
    "trainer = Trainer(\n",
    "    model=model,\n",
    "    args=training_args,\n",
    "    compute_metrics=compute_metrics,\n",
    "    train_dataset=tokenized_dataset['train'],\n",
    "    eval_dataset=tokenized_dataset['test'],\n",
    "    tokenizer=tokenizer,\n",
    "    optimizers=(optimizer, lr_scheduler),\n",
    "    callbacks=[unfreezing_callback]\n",
    ")\n",
    "\n",
    "# Fine-tune the model\n",
    "trainer.train()"
   ],
   "metadata": {
    "colab": {
     "base_uri": "https://localhost:8080/",
     "height": 598
    },
    "id": "h1garqS8F3kN",
    "outputId": "88f48272-9879-4097-a412-604e7ee11e68",
    "ExecuteTime": {
     "end_time": "2024-06-17T05:43:02.348498Z",
     "start_time": "2024-06-17T05:41:02.198101Z"
    }
   },
   "execution_count": 15,
   "outputs": [
    {
     "data": {
      "text/plain": "<IPython.core.display.HTML object>",
      "text/html": "\n    <div>\n      \n      <progress value='720' max='720' style='width:300px; height:20px; vertical-align: middle;'></progress>\n      [720/720 01:59, Epoch 15/15]\n    </div>\n    <table border=\"1\" class=\"dataframe\">\n  <thead>\n <tr style=\"text-align: left;\">\n      <th>Epoch</th>\n      <th>Training Loss</th>\n      <th>Validation Loss</th>\n      <th>Accuracy</th>\n      <th>F1</th>\n      <th>Auc</th>\n    </tr>\n  </thead>\n  <tbody>\n    <tr>\n      <td>1</td>\n      <td>0.664900</td>\n      <td>0.604564</td>\n      <td>0.742613</td>\n      <td>0.662069</td>\n      <td>0.798372</td>\n    </tr>\n    <tr>\n      <td>2</td>\n      <td>0.530500</td>\n      <td>0.452597</td>\n      <td>0.795141</td>\n      <td>0.740864</td>\n      <td>0.864030</td>\n    </tr>\n    <tr>\n      <td>3</td>\n      <td>0.450500</td>\n      <td>0.421469</td>\n      <td>0.806303</td>\n      <td>0.767899</td>\n      <td>0.881789</td>\n    </tr>\n    <tr>\n      <td>4</td>\n      <td>0.420600</td>\n      <td>0.403021</td>\n      <td>0.818779</td>\n      <td>0.770000</td>\n      <td>0.883922</td>\n    </tr>\n    <tr>\n      <td>5</td>\n      <td>0.404500</td>\n      <td>0.409623</td>\n      <td>0.810900</td>\n      <td>0.753002</td>\n      <td>0.881150</td>\n    </tr>\n    <tr>\n      <td>6</td>\n      <td>0.395700</td>\n      <td>0.401882</td>\n      <td>0.817466</td>\n      <td>0.772504</td>\n      <td>0.884205</td>\n    </tr>\n    <tr>\n      <td>7</td>\n      <td>0.381800</td>\n      <td>0.426104</td>\n      <td>0.816809</td>\n      <td>0.778396</td>\n      <td>0.879384</td>\n    </tr>\n    <tr>\n      <td>8</td>\n      <td>0.373100</td>\n      <td>0.429005</td>\n      <td>0.812869</td>\n      <td>0.779582</td>\n      <td>0.882029</td>\n    </tr>\n    <tr>\n      <td>9</td>\n      <td>0.348700</td>\n      <td>0.423991</td>\n      <td>0.814183</td>\n      <td>0.772325</td>\n      <td>0.876795</td>\n    </tr>\n    <tr>\n      <td>10</td>\n      <td>0.336900</td>\n      <td>0.426979</td>\n      <td>0.815496</td>\n      <td>0.770986</td>\n      <td>0.879726</td>\n    </tr>\n    <tr>\n      <td>11</td>\n      <td>0.331600</td>\n      <td>0.426499</td>\n      <td>0.815496</td>\n      <td>0.765638</td>\n      <td>0.875466</td>\n    </tr>\n    <tr>\n      <td>12</td>\n      <td>0.312100</td>\n      <td>0.433337</td>\n      <td>0.813526</td>\n      <td>0.758092</td>\n      <td>0.874626</td>\n    </tr>\n    <tr>\n      <td>13</td>\n      <td>0.305700</td>\n      <td>0.437529</td>\n      <td>0.816809</td>\n      <td>0.776263</td>\n      <td>0.876835</td>\n    </tr>\n    <tr>\n      <td>14</td>\n      <td>0.298400</td>\n      <td>0.439722</td>\n      <td>0.815496</td>\n      <td>0.774297</td>\n      <td>0.876390</td>\n    </tr>\n    <tr>\n      <td>15</td>\n      <td>0.300200</td>\n      <td>0.435815</td>\n      <td>0.816809</td>\n      <td>0.774454</td>\n      <td>0.876568</td>\n    </tr>\n  </tbody>\n</table><p>"
     },
     "metadata": {},
     "output_type": "display_data"
    },
    {
     "data": {
      "text/plain": "TrainOutput(global_step=720, training_loss=0.39034313493304784, metrics={'train_runtime': 119.7616, 'train_samples_per_second': 762.766, 'train_steps_per_second': 6.012, 'total_flos': 1923816593173656.0, 'train_loss': 0.39034313493304784, 'epoch': 15.0})"
     },
     "execution_count": 15,
     "metadata": {},
     "output_type": "execute_result"
    }
   ]
  },
  {
   "cell_type": "code",
   "source": [
    "test=pd.read_csv('test.csv')\n",
    "test['text']=test['text'].apply(preprocess_tweet)\n",
    "test_dataset_tokenized=Dataset.from_pandas(test[['text']])\n",
    "test_dataset_tokenized=test_dataset_tokenized.map(tokenize,batched=True,batch_size=BATCH_SIZE)\n",
    "\n",
    "test_predictions=trainer.predict(test_dataset_tokenized)"
   ],
   "metadata": {
    "colab": {
     "base_uri": "https://localhost:8080/",
     "height": 49,
     "referenced_widgets": [
      "728cc094f6184f6daab1b62122803e25",
      "1454a04582ab4d81a21053b463f02166",
      "c83c30568e924e66aa68e08cfa7ade2b",
      "7b31e6a169b041e4b0f72f9c9121fd1f",
      "ff759e32aadf43f19897c8688b060237",
      "dd56a0b0e8db4f4a9a6d3e8c2042c1af",
      "2a4718e8f19443ae97496670e0a6f3b1",
      "dfd9af72a0044a70879694c7207470b9",
      "c4e66d3681b04f369c0bc342e5891f19",
      "f9e47b97b3d84852964ca61683ad5489",
      "49c2a3bc2f26412a84858b2e38a5de49"
     ]
    },
    "id": "Pky4lCu6h0YX",
    "outputId": "5f038d1c-950a-4753-b9c0-5d971afaad2d",
    "ExecuteTime": {
     "end_time": "2024-06-17T05:43:04.470333Z",
     "start_time": "2024-06-17T05:43:02.349788Z"
    }
   },
   "execution_count": 16,
   "outputs": [
    {
     "data": {
      "text/plain": "Map:   0%|          | 0/3263 [00:00<?, ? examples/s]",
      "application/vnd.jupyter.widget-view+json": {
       "version_major": 2,
       "version_minor": 0,
       "model_id": "1d50cc1bbc7d4822a55aa1c2b103e643"
      }
     },
     "metadata": {},
     "output_type": "display_data"
    },
    {
     "data": {
      "text/plain": "<IPython.core.display.HTML object>",
      "text/html": ""
     },
     "metadata": {},
     "output_type": "display_data"
    }
   ]
  },
  {
   "cell_type": "code",
   "source": [
    "submission=pd.DataFrame({'id':test['id'],'target':test_predictions.predictions.argmax(-1)})\n",
    "submission.to_csv('submission.csv',index=False)"
   ],
   "metadata": {
    "id": "1Ts1CUojiZ96",
    "ExecuteTime": {
     "end_time": "2024-06-17T05:43:04.478630Z",
     "start_time": "2024-06-17T05:43:04.471379Z"
    }
   },
   "execution_count": 17,
   "outputs": []
  }
 ]
}
