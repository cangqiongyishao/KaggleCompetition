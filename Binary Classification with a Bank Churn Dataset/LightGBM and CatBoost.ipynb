{
 "cells": [
  {
   "cell_type": "code",
   "execution_count": 1,
   "id": "initial_id",
   "metadata": {
    "collapsed": true,
    "ExecuteTime": {
     "end_time": "2024-07-03T15:58:57.057212Z",
     "start_time": "2024-07-03T15:58:56.848185Z"
    }
   },
   "outputs": [],
   "source": [
    "import pandas as pd\n",
    "import numpy as np\n",
    "\n",
    "import matplotlib.pyplot as plt\n",
    "import seaborn as sns\n",
    "import plotly.express as px\n",
    "from plotly.subplots import make_subplots\n",
    "import plotly.graph_objects as go\n",
    "\n",
    "%matplotlib inline\n",
    "\n",
    "from sklearn.preprocessing import StandardScaler,LabelEncoder,MinMaxScaler\n",
    "\n",
    "from sklearn.model_selection import train_test_split\n",
    "from sklearn.model_selection import StratifiedKFold\n",
    "from sklearn.feature_extraction.text import TfidfVectorizer\n",
    "from sklearn.decomposition import TruncatedSVD\n",
    "\n",
    "import  lightgbm as lgb\n",
    "from catboost import CatBoostClassifier,Pool\n",
    "from catboost.utils import eval_metric\n",
    "\n",
    "from sklearn.metrics import roc_auc_score\n",
    "\n",
    "import warnings\n",
    "warnings.filterwarnings('ignore')"
   ]
  },
  {
   "cell_type": "code",
   "outputs": [],
   "source": [
    "df_submission=pd.read_csv('sample_submission.csv')\n",
    "df_test=pd.read_csv('test.csv')\n",
    "df_train=pd.read_csv('train.csv')"
   ],
   "metadata": {
    "collapsed": false,
    "ExecuteTime": {
     "end_time": "2024-07-03T16:02:15.925567Z",
     "start_time": "2024-07-03T16:02:15.705178Z"
    }
   },
   "id": "2d9832ac3cfb3501",
   "execution_count": 2
  },
  {
   "cell_type": "code",
   "outputs": [
    {
     "data": {
      "text/plain": "       id  CustomerId    Surname  CreditScore Geography  Gender   Age  Tenure  \\\n0  165034    15773898   Lucchese          586    France  Female  23.0       2   \n1  165035    15782418       Nott          683    France  Female  46.0       2   \n2  165036    15807120         K?          656    France  Female  34.0       7   \n3  165037    15808905  O'Donnell          681    France    Male  36.0       8   \n4  165038    15607314    Higgins          752   Germany    Male  38.0      10   \n\n     Balance  NumOfProducts  HasCrCard  IsActiveMember  EstimatedSalary  \n0       0.00              2        0.0             1.0        160976.75  \n1       0.00              1        1.0             0.0         72549.27  \n2       0.00              2        1.0             0.0        138882.09  \n3       0.00              1        1.0             0.0        113931.57  \n4  121263.62              1        1.0             0.0        139431.00  ",
      "text/html": "<div>\n<style scoped>\n    .dataframe tbody tr th:only-of-type {\n        vertical-align: middle;\n    }\n\n    .dataframe tbody tr th {\n        vertical-align: top;\n    }\n\n    .dataframe thead th {\n        text-align: right;\n    }\n</style>\n<table border=\"1\" class=\"dataframe\">\n  <thead>\n    <tr style=\"text-align: right;\">\n      <th></th>\n      <th>id</th>\n      <th>CustomerId</th>\n      <th>Surname</th>\n      <th>CreditScore</th>\n      <th>Geography</th>\n      <th>Gender</th>\n      <th>Age</th>\n      <th>Tenure</th>\n      <th>Balance</th>\n      <th>NumOfProducts</th>\n      <th>HasCrCard</th>\n      <th>IsActiveMember</th>\n      <th>EstimatedSalary</th>\n    </tr>\n  </thead>\n  <tbody>\n    <tr>\n      <th>0</th>\n      <td>165034</td>\n      <td>15773898</td>\n      <td>Lucchese</td>\n      <td>586</td>\n      <td>France</td>\n      <td>Female</td>\n      <td>23.0</td>\n      <td>2</td>\n      <td>0.00</td>\n      <td>2</td>\n      <td>0.0</td>\n      <td>1.0</td>\n      <td>160976.75</td>\n    </tr>\n    <tr>\n      <th>1</th>\n      <td>165035</td>\n      <td>15782418</td>\n      <td>Nott</td>\n      <td>683</td>\n      <td>France</td>\n      <td>Female</td>\n      <td>46.0</td>\n      <td>2</td>\n      <td>0.00</td>\n      <td>1</td>\n      <td>1.0</td>\n      <td>0.0</td>\n      <td>72549.27</td>\n    </tr>\n    <tr>\n      <th>2</th>\n      <td>165036</td>\n      <td>15807120</td>\n      <td>K?</td>\n      <td>656</td>\n      <td>France</td>\n      <td>Female</td>\n      <td>34.0</td>\n      <td>7</td>\n      <td>0.00</td>\n      <td>2</td>\n      <td>1.0</td>\n      <td>0.0</td>\n      <td>138882.09</td>\n    </tr>\n    <tr>\n      <th>3</th>\n      <td>165037</td>\n      <td>15808905</td>\n      <td>O'Donnell</td>\n      <td>681</td>\n      <td>France</td>\n      <td>Male</td>\n      <td>36.0</td>\n      <td>8</td>\n      <td>0.00</td>\n      <td>1</td>\n      <td>1.0</td>\n      <td>0.0</td>\n      <td>113931.57</td>\n    </tr>\n    <tr>\n      <th>4</th>\n      <td>165038</td>\n      <td>15607314</td>\n      <td>Higgins</td>\n      <td>752</td>\n      <td>Germany</td>\n      <td>Male</td>\n      <td>38.0</td>\n      <td>10</td>\n      <td>121263.62</td>\n      <td>1</td>\n      <td>1.0</td>\n      <td>0.0</td>\n      <td>139431.00</td>\n    </tr>\n  </tbody>\n</table>\n</div>"
     },
     "execution_count": 3,
     "metadata": {},
     "output_type": "execute_result"
    }
   ],
   "source": [
    "df_test_ov=df_test.copy()\n",
    "df_test.head()"
   ],
   "metadata": {
    "collapsed": false,
    "ExecuteTime": {
     "end_time": "2024-07-03T16:02:43.334586Z",
     "start_time": "2024-07-03T16:02:43.317491Z"
    }
   },
   "id": "f29e4f178097138b",
   "execution_count": 3
  },
  {
   "cell_type": "code",
   "outputs": [],
   "source": [
    "pd.set_option('display.max_columns',None)"
   ],
   "metadata": {
    "collapsed": false,
    "ExecuteTime": {
     "end_time": "2024-07-03T16:03:39.179540Z",
     "start_time": "2024-07-03T16:03:39.176840Z"
    }
   },
   "id": "dffa574e474edd23",
   "execution_count": 4
  },
  {
   "cell_type": "code",
   "outputs": [
    {
     "data": {
      "text/plain": "   id  CustomerId         Surname  CreditScore Geography Gender   Age  Tenure  \\\n0   0    15674932  Okwudilichukwu          668    France   Male  33.0       3   \n1   1    15749177   Okwudiliolisa          627    France   Male  33.0       1   \n2   2    15694510           Hsueh          678    France   Male  40.0      10   \n3   3    15741417             Kao          581    France   Male  34.0       2   \n4   4    15766172       Chiemenam          716     Spain   Male  33.0       5   \n\n     Balance  NumOfProducts  HasCrCard  IsActiveMember  EstimatedSalary  \\\n0       0.00              2        1.0             0.0        181449.97   \n1       0.00              2        1.0             1.0         49503.50   \n2       0.00              2        1.0             0.0        184866.69   \n3  148882.54              1        1.0             1.0         84560.88   \n4       0.00              2        1.0             1.0         15068.83   \n\n   Exited  \n0       0  \n1       0  \n2       0  \n3       0  \n4       0  ",
      "text/html": "<div>\n<style scoped>\n    .dataframe tbody tr th:only-of-type {\n        vertical-align: middle;\n    }\n\n    .dataframe tbody tr th {\n        vertical-align: top;\n    }\n\n    .dataframe thead th {\n        text-align: right;\n    }\n</style>\n<table border=\"1\" class=\"dataframe\">\n  <thead>\n    <tr style=\"text-align: right;\">\n      <th></th>\n      <th>id</th>\n      <th>CustomerId</th>\n      <th>Surname</th>\n      <th>CreditScore</th>\n      <th>Geography</th>\n      <th>Gender</th>\n      <th>Age</th>\n      <th>Tenure</th>\n      <th>Balance</th>\n      <th>NumOfProducts</th>\n      <th>HasCrCard</th>\n      <th>IsActiveMember</th>\n      <th>EstimatedSalary</th>\n      <th>Exited</th>\n    </tr>\n  </thead>\n  <tbody>\n    <tr>\n      <th>0</th>\n      <td>0</td>\n      <td>15674932</td>\n      <td>Okwudilichukwu</td>\n      <td>668</td>\n      <td>France</td>\n      <td>Male</td>\n      <td>33.0</td>\n      <td>3</td>\n      <td>0.00</td>\n      <td>2</td>\n      <td>1.0</td>\n      <td>0.0</td>\n      <td>181449.97</td>\n      <td>0</td>\n    </tr>\n    <tr>\n      <th>1</th>\n      <td>1</td>\n      <td>15749177</td>\n      <td>Okwudiliolisa</td>\n      <td>627</td>\n      <td>France</td>\n      <td>Male</td>\n      <td>33.0</td>\n      <td>1</td>\n      <td>0.00</td>\n      <td>2</td>\n      <td>1.0</td>\n      <td>1.0</td>\n      <td>49503.50</td>\n      <td>0</td>\n    </tr>\n    <tr>\n      <th>2</th>\n      <td>2</td>\n      <td>15694510</td>\n      <td>Hsueh</td>\n      <td>678</td>\n      <td>France</td>\n      <td>Male</td>\n      <td>40.0</td>\n      <td>10</td>\n      <td>0.00</td>\n      <td>2</td>\n      <td>1.0</td>\n      <td>0.0</td>\n      <td>184866.69</td>\n      <td>0</td>\n    </tr>\n    <tr>\n      <th>3</th>\n      <td>3</td>\n      <td>15741417</td>\n      <td>Kao</td>\n      <td>581</td>\n      <td>France</td>\n      <td>Male</td>\n      <td>34.0</td>\n      <td>2</td>\n      <td>148882.54</td>\n      <td>1</td>\n      <td>1.0</td>\n      <td>1.0</td>\n      <td>84560.88</td>\n      <td>0</td>\n    </tr>\n    <tr>\n      <th>4</th>\n      <td>4</td>\n      <td>15766172</td>\n      <td>Chiemenam</td>\n      <td>716</td>\n      <td>Spain</td>\n      <td>Male</td>\n      <td>33.0</td>\n      <td>5</td>\n      <td>0.00</td>\n      <td>2</td>\n      <td>1.0</td>\n      <td>1.0</td>\n      <td>15068.83</td>\n      <td>0</td>\n    </tr>\n  </tbody>\n</table>\n</div>"
     },
     "execution_count": 5,
     "metadata": {},
     "output_type": "execute_result"
    }
   ],
   "source": [
    "df_train.head()"
   ],
   "metadata": {
    "collapsed": false,
    "ExecuteTime": {
     "end_time": "2024-07-03T16:03:46.615385Z",
     "start_time": "2024-07-03T16:03:46.606492Z"
    }
   },
   "id": "16fa37ed601ad243",
   "execution_count": 5
  },
  {
   "cell_type": "code",
   "outputs": [
    {
     "data": {
      "text/plain": "       id  CustomerId    Surname  CreditScore Geography  Gender   Age  Tenure  \\\n0  165034    15773898   Lucchese          586    France  Female  23.0       2   \n1  165035    15782418       Nott          683    France  Female  46.0       2   \n2  165036    15807120         K?          656    France  Female  34.0       7   \n3  165037    15808905  O'Donnell          681    France    Male  36.0       8   \n4  165038    15607314    Higgins          752   Germany    Male  38.0      10   \n\n     Balance  NumOfProducts  HasCrCard  IsActiveMember  EstimatedSalary  \n0       0.00              2        0.0             1.0        160976.75  \n1       0.00              1        1.0             0.0         72549.27  \n2       0.00              2        1.0             0.0        138882.09  \n3       0.00              1        1.0             0.0        113931.57  \n4  121263.62              1        1.0             0.0        139431.00  ",
      "text/html": "<div>\n<style scoped>\n    .dataframe tbody tr th:only-of-type {\n        vertical-align: middle;\n    }\n\n    .dataframe tbody tr th {\n        vertical-align: top;\n    }\n\n    .dataframe thead th {\n        text-align: right;\n    }\n</style>\n<table border=\"1\" class=\"dataframe\">\n  <thead>\n    <tr style=\"text-align: right;\">\n      <th></th>\n      <th>id</th>\n      <th>CustomerId</th>\n      <th>Surname</th>\n      <th>CreditScore</th>\n      <th>Geography</th>\n      <th>Gender</th>\n      <th>Age</th>\n      <th>Tenure</th>\n      <th>Balance</th>\n      <th>NumOfProducts</th>\n      <th>HasCrCard</th>\n      <th>IsActiveMember</th>\n      <th>EstimatedSalary</th>\n    </tr>\n  </thead>\n  <tbody>\n    <tr>\n      <th>0</th>\n      <td>165034</td>\n      <td>15773898</td>\n      <td>Lucchese</td>\n      <td>586</td>\n      <td>France</td>\n      <td>Female</td>\n      <td>23.0</td>\n      <td>2</td>\n      <td>0.00</td>\n      <td>2</td>\n      <td>0.0</td>\n      <td>1.0</td>\n      <td>160976.75</td>\n    </tr>\n    <tr>\n      <th>1</th>\n      <td>165035</td>\n      <td>15782418</td>\n      <td>Nott</td>\n      <td>683</td>\n      <td>France</td>\n      <td>Female</td>\n      <td>46.0</td>\n      <td>2</td>\n      <td>0.00</td>\n      <td>1</td>\n      <td>1.0</td>\n      <td>0.0</td>\n      <td>72549.27</td>\n    </tr>\n    <tr>\n      <th>2</th>\n      <td>165036</td>\n      <td>15807120</td>\n      <td>K?</td>\n      <td>656</td>\n      <td>France</td>\n      <td>Female</td>\n      <td>34.0</td>\n      <td>7</td>\n      <td>0.00</td>\n      <td>2</td>\n      <td>1.0</td>\n      <td>0.0</td>\n      <td>138882.09</td>\n    </tr>\n    <tr>\n      <th>3</th>\n      <td>165037</td>\n      <td>15808905</td>\n      <td>O'Donnell</td>\n      <td>681</td>\n      <td>France</td>\n      <td>Male</td>\n      <td>36.0</td>\n      <td>8</td>\n      <td>0.00</td>\n      <td>1</td>\n      <td>1.0</td>\n      <td>0.0</td>\n      <td>113931.57</td>\n    </tr>\n    <tr>\n      <th>4</th>\n      <td>165038</td>\n      <td>15607314</td>\n      <td>Higgins</td>\n      <td>752</td>\n      <td>Germany</td>\n      <td>Male</td>\n      <td>38.0</td>\n      <td>10</td>\n      <td>121263.62</td>\n      <td>1</td>\n      <td>1.0</td>\n      <td>0.0</td>\n      <td>139431.00</td>\n    </tr>\n  </tbody>\n</table>\n</div>"
     },
     "execution_count": 6,
     "metadata": {},
     "output_type": "execute_result"
    }
   ],
   "source": [
    "df_test.head()"
   ],
   "metadata": {
    "collapsed": false,
    "ExecuteTime": {
     "end_time": "2024-07-03T16:04:08.645166Z",
     "start_time": "2024-07-03T16:04:08.634940Z"
    }
   },
   "id": "4d72dd998d3989da",
   "execution_count": 6
  },
  {
   "cell_type": "code",
   "outputs": [
    {
     "data": {
      "text/plain": "       id  Exited\n0  165034     0.5\n1  165035     0.5\n2  165036     0.5\n3  165037     0.5\n4  165038     0.5",
      "text/html": "<div>\n<style scoped>\n    .dataframe tbody tr th:only-of-type {\n        vertical-align: middle;\n    }\n\n    .dataframe tbody tr th {\n        vertical-align: top;\n    }\n\n    .dataframe thead th {\n        text-align: right;\n    }\n</style>\n<table border=\"1\" class=\"dataframe\">\n  <thead>\n    <tr style=\"text-align: right;\">\n      <th></th>\n      <th>id</th>\n      <th>Exited</th>\n    </tr>\n  </thead>\n  <tbody>\n    <tr>\n      <th>0</th>\n      <td>165034</td>\n      <td>0.5</td>\n    </tr>\n    <tr>\n      <th>1</th>\n      <td>165035</td>\n      <td>0.5</td>\n    </tr>\n    <tr>\n      <th>2</th>\n      <td>165036</td>\n      <td>0.5</td>\n    </tr>\n    <tr>\n      <th>3</th>\n      <td>165037</td>\n      <td>0.5</td>\n    </tr>\n    <tr>\n      <th>4</th>\n      <td>165038</td>\n      <td>0.5</td>\n    </tr>\n  </tbody>\n</table>\n</div>"
     },
     "execution_count": 7,
     "metadata": {},
     "output_type": "execute_result"
    }
   ],
   "source": [
    "df_submission.head()"
   ],
   "metadata": {
    "collapsed": false,
    "ExecuteTime": {
     "end_time": "2024-07-03T16:05:23.108043Z",
     "start_time": "2024-07-03T16:05:23.102743Z"
    }
   },
   "id": "a1d30cf594b1e92d",
   "execution_count": 7
  },
  {
   "cell_type": "code",
   "outputs": [
    {
     "name": "stdout",
     "output_type": "stream",
     "text": [
      "Training Data:\n",
      "Number of Rows: 165034\n",
      "Number of Columns: 14\n",
      "\n",
      "Test Data:\n",
      "Number of Rows: 110023\n",
      "Number of Columns: 13\n",
      "\n",
      "Submission Data:\n",
      "Number of Rows: 110023\n",
      "Number of Columns: 2\n"
     ]
    }
   ],
   "source": [
    "num_train_rows,num_train_columns=df_train.shape\n",
    "num_test_rows,num_test_columns=df_test.shape\n",
    "num_submission_rows,num_submission_columns=df_submission.shape\n",
    "\n",
    "print(\"Training Data:\")\n",
    "print(f\"Number of Rows: {num_train_rows}\")\n",
    "print(f\"Number of Columns: {num_train_columns}\\n\")\n",
    "\n",
    "print(\"Test Data:\")\n",
    "print(f\"Number of Rows: {num_test_rows}\")\n",
    "print(f\"Number of Columns: {num_test_columns}\\n\")\n",
    "\n",
    "print(\"Submission Data:\")\n",
    "print(f\"Number of Rows: {num_submission_rows}\")\n",
    "print(f\"Number of Columns: {num_submission_columns}\")"
   ],
   "metadata": {
    "collapsed": false,
    "ExecuteTime": {
     "end_time": "2024-07-03T16:07:41.413997Z",
     "start_time": "2024-07-03T16:07:41.408942Z"
    }
   },
   "id": "2f9f94c7c407384f",
   "execution_count": 8
  },
  {
   "cell_type": "code",
   "outputs": [
    {
     "name": "stdout",
     "output_type": "stream",
     "text": [
      "Null Count in Train: 0\n",
      "Null Count in Test: 0\n",
      "Null Count in Submission: 0\n"
     ]
    }
   ],
   "source": [
    "train_null=df_train.isnull().sum().sum()\n",
    "test_null=df_test.isnull().sum().sum()\n",
    "submission_null=df_submission.isnull().sum().sum()\n",
    "print(f'Null Count in Train: {train_null}')\n",
    "print(f'Null Count in Test: {test_null}')\n",
    "print(f'Null Count in Submission: {submission_null}')"
   ],
   "metadata": {
    "collapsed": false,
    "ExecuteTime": {
     "end_time": "2024-07-03T16:09:01.116548Z",
     "start_time": "2024-07-03T16:09:01.093044Z"
    }
   },
   "id": "acfe347236759bab",
   "execution_count": 9
  },
  {
   "cell_type": "code",
   "outputs": [
    {
     "name": "stdout",
     "output_type": "stream",
     "text": [
      "Number of duplicate rows in train_data: 0\n",
      "Number of duplicate rows in test_data: 0\n",
      "Number of duplicate rows in test_data: 0\n"
     ]
    }
   ],
   "source": [
    "train_duplicates=df_train.duplicated().sum()\n",
    "test_duplicates=df_test.duplicated().sum()\n",
    "submission_duplicates=df_submission.duplicated().sum()\n",
    "print(f\"Number of duplicate rows in train_data: {train_duplicates}\")\n",
    "print(f\"Number of duplicate rows in test_data: {test_duplicates}\")\n",
    "print(f\"Number of duplicate rows in test_data: {submission_duplicates}\")"
   ],
   "metadata": {
    "collapsed": false,
    "ExecuteTime": {
     "end_time": "2024-07-03T16:10:36.126424Z",
     "start_time": "2024-07-03T16:10:36.062077Z"
    }
   },
   "id": "b2fc2247610503c0",
   "execution_count": 11
  },
  {
   "cell_type": "code",
   "outputs": [
    {
     "name": "stdout",
     "output_type": "stream",
     "text": [
      "<class 'pandas.core.frame.DataFrame'>\n",
      "RangeIndex: 165034 entries, 0 to 165033\n",
      "Data columns (total 14 columns):\n",
      " #   Column           Non-Null Count   Dtype  \n",
      "---  ------           --------------   -----  \n",
      " 0   id               165034 non-null  int64  \n",
      " 1   CustomerId       165034 non-null  int64  \n",
      " 2   Surname          165034 non-null  object \n",
      " 3   CreditScore      165034 non-null  int64  \n",
      " 4   Geography        165034 non-null  object \n",
      " 5   Gender           165034 non-null  object \n",
      " 6   Age              165034 non-null  float64\n",
      " 7   Tenure           165034 non-null  int64  \n",
      " 8   Balance          165034 non-null  float64\n",
      " 9   NumOfProducts    165034 non-null  int64  \n",
      " 10  HasCrCard        165034 non-null  float64\n",
      " 11  IsActiveMember   165034 non-null  float64\n",
      " 12  EstimatedSalary  165034 non-null  float64\n",
      " 13  Exited           165034 non-null  int64  \n",
      "dtypes: float64(5), int64(6), object(3)\n",
      "memory usage: 17.6+ MB\n"
     ]
    }
   ],
   "source": [
    "df_train.info()"
   ],
   "metadata": {
    "collapsed": false,
    "ExecuteTime": {
     "end_time": "2024-07-03T16:10:54.363974Z",
     "start_time": "2024-07-03T16:10:54.344119Z"
    }
   },
   "id": "2cbbae615f474649",
   "execution_count": 12
  },
  {
   "cell_type": "code",
   "outputs": [
    {
     "data": {
      "text/plain": "                id    CustomerId    CreditScore            Age         Tenure  \\\ncount  165034.0000  1.650340e+05  165034.000000  165034.000000  165034.000000   \nmean    82516.5000  1.569201e+07     656.454373      38.125888       5.020353   \nstd     47641.3565  7.139782e+04      80.103340       8.867205       2.806159   \nmin         0.0000  1.556570e+07     350.000000      18.000000       0.000000   \n25%     41258.2500  1.563314e+07     597.000000      32.000000       3.000000   \n50%     82516.5000  1.569017e+07     659.000000      37.000000       5.000000   \n75%    123774.7500  1.575682e+07     710.000000      42.000000       7.000000   \nmax    165033.0000  1.581569e+07     850.000000      92.000000      10.000000   \n\n             Balance  NumOfProducts      HasCrCard  IsActiveMember  \\\ncount  165034.000000  165034.000000  165034.000000   165034.000000   \nmean    55478.086689       1.554455       0.753954        0.497770   \nstd     62817.663278       0.547154       0.430707        0.499997   \nmin         0.000000       1.000000       0.000000        0.000000   \n25%         0.000000       1.000000       1.000000        0.000000   \n50%         0.000000       2.000000       1.000000        0.000000   \n75%    119939.517500       2.000000       1.000000        1.000000   \nmax    250898.090000       4.000000       1.000000        1.000000   \n\n       EstimatedSalary         Exited  \ncount    165034.000000  165034.000000  \nmean     112574.822734       0.211599  \nstd       50292.865585       0.408443  \nmin          11.580000       0.000000  \n25%       74637.570000       0.000000  \n50%      117948.000000       0.000000  \n75%      155152.467500       0.000000  \nmax      199992.480000       1.000000  ",
      "text/html": "<div>\n<style scoped>\n    .dataframe tbody tr th:only-of-type {\n        vertical-align: middle;\n    }\n\n    .dataframe tbody tr th {\n        vertical-align: top;\n    }\n\n    .dataframe thead th {\n        text-align: right;\n    }\n</style>\n<table border=\"1\" class=\"dataframe\">\n  <thead>\n    <tr style=\"text-align: right;\">\n      <th></th>\n      <th>id</th>\n      <th>CustomerId</th>\n      <th>CreditScore</th>\n      <th>Age</th>\n      <th>Tenure</th>\n      <th>Balance</th>\n      <th>NumOfProducts</th>\n      <th>HasCrCard</th>\n      <th>IsActiveMember</th>\n      <th>EstimatedSalary</th>\n      <th>Exited</th>\n    </tr>\n  </thead>\n  <tbody>\n    <tr>\n      <th>count</th>\n      <td>165034.0000</td>\n      <td>1.650340e+05</td>\n      <td>165034.000000</td>\n      <td>165034.000000</td>\n      <td>165034.000000</td>\n      <td>165034.000000</td>\n      <td>165034.000000</td>\n      <td>165034.000000</td>\n      <td>165034.000000</td>\n      <td>165034.000000</td>\n      <td>165034.000000</td>\n    </tr>\n    <tr>\n      <th>mean</th>\n      <td>82516.5000</td>\n      <td>1.569201e+07</td>\n      <td>656.454373</td>\n      <td>38.125888</td>\n      <td>5.020353</td>\n      <td>55478.086689</td>\n      <td>1.554455</td>\n      <td>0.753954</td>\n      <td>0.497770</td>\n      <td>112574.822734</td>\n      <td>0.211599</td>\n    </tr>\n    <tr>\n      <th>std</th>\n      <td>47641.3565</td>\n      <td>7.139782e+04</td>\n      <td>80.103340</td>\n      <td>8.867205</td>\n      <td>2.806159</td>\n      <td>62817.663278</td>\n      <td>0.547154</td>\n      <td>0.430707</td>\n      <td>0.499997</td>\n      <td>50292.865585</td>\n      <td>0.408443</td>\n    </tr>\n    <tr>\n      <th>min</th>\n      <td>0.0000</td>\n      <td>1.556570e+07</td>\n      <td>350.000000</td>\n      <td>18.000000</td>\n      <td>0.000000</td>\n      <td>0.000000</td>\n      <td>1.000000</td>\n      <td>0.000000</td>\n      <td>0.000000</td>\n      <td>11.580000</td>\n      <td>0.000000</td>\n    </tr>\n    <tr>\n      <th>25%</th>\n      <td>41258.2500</td>\n      <td>1.563314e+07</td>\n      <td>597.000000</td>\n      <td>32.000000</td>\n      <td>3.000000</td>\n      <td>0.000000</td>\n      <td>1.000000</td>\n      <td>1.000000</td>\n      <td>0.000000</td>\n      <td>74637.570000</td>\n      <td>0.000000</td>\n    </tr>\n    <tr>\n      <th>50%</th>\n      <td>82516.5000</td>\n      <td>1.569017e+07</td>\n      <td>659.000000</td>\n      <td>37.000000</td>\n      <td>5.000000</td>\n      <td>0.000000</td>\n      <td>2.000000</td>\n      <td>1.000000</td>\n      <td>0.000000</td>\n      <td>117948.000000</td>\n      <td>0.000000</td>\n    </tr>\n    <tr>\n      <th>75%</th>\n      <td>123774.7500</td>\n      <td>1.575682e+07</td>\n      <td>710.000000</td>\n      <td>42.000000</td>\n      <td>7.000000</td>\n      <td>119939.517500</td>\n      <td>2.000000</td>\n      <td>1.000000</td>\n      <td>1.000000</td>\n      <td>155152.467500</td>\n      <td>0.000000</td>\n    </tr>\n    <tr>\n      <th>max</th>\n      <td>165033.0000</td>\n      <td>1.581569e+07</td>\n      <td>850.000000</td>\n      <td>92.000000</td>\n      <td>10.000000</td>\n      <td>250898.090000</td>\n      <td>4.000000</td>\n      <td>1.000000</td>\n      <td>1.000000</td>\n      <td>199992.480000</td>\n      <td>1.000000</td>\n    </tr>\n  </tbody>\n</table>\n</div>"
     },
     "execution_count": 13,
     "metadata": {},
     "output_type": "execute_result"
    }
   ],
   "source": [
    "df_train.describe()"
   ],
   "metadata": {
    "collapsed": false,
    "ExecuteTime": {
     "end_time": "2024-07-03T16:11:05.592080Z",
     "start_time": "2024-07-03T16:11:05.536073Z"
    }
   },
   "id": "c6c65f47b924cd24",
   "execution_count": 13
  },
  {
   "cell_type": "code",
   "outputs": [],
   "source": [],
   "metadata": {
    "collapsed": false
   },
   "id": "82ee6a3282997cba"
  }
 ],
 "metadata": {
  "kernelspec": {
   "display_name": "Python 3",
   "language": "python",
   "name": "python3"
  },
  "language_info": {
   "codemirror_mode": {
    "name": "ipython",
    "version": 2
   },
   "file_extension": ".py",
   "mimetype": "text/x-python",
   "name": "python",
   "nbconvert_exporter": "python",
   "pygments_lexer": "ipython2",
   "version": "2.7.6"
  }
 },
 "nbformat": 4,
 "nbformat_minor": 5
}
